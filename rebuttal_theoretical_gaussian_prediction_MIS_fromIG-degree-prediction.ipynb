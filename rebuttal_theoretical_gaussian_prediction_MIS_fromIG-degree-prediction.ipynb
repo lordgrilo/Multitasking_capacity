{
 "cells": [
  {
   "cell_type": "code",
   "execution_count": 1,
   "metadata": {},
   "outputs": [],
   "source": [
    "%matplotlib inline\n",
    "import pandas as pd\n",
    "import IGtools as igt\n",
    "import networkx as nx\n",
    "import os, sys \n",
    "import matplotlib.pyplot as plt\n",
    "import pandas as pd\n",
    "import numpy as np\n",
    "from tqdm import tqdm_notebook"
   ]
  },
  {
   "cell_type": "code",
   "execution_count": 2,
   "metadata": {},
   "outputs": [],
   "source": [
    "import igraph as ig"
   ]
  },
  {
   "cell_type": "code",
   "execution_count": 3,
   "metadata": {},
   "outputs": [],
   "source": [
    "def wedge_closure_boosted_degree(s,t,ss,tt):\n",
    "    return (s-1) * (np.mean(tt**2)/np.mean(tt)) + (t-1) * (np.mean(ss**2)/np.mean(ss)) \n",
    "\n",
    "def wedge_closure_boosted_degree_corrected(s,t,ss,tt):\n",
    "    return wedge_closure_boosted_degree(s,t,ss,tt) - ((s-1) * (t-1) * (np.mean(tt)-1) * (np.mean(ss) - 1 )) / (np.sum(tt-1))\n",
    "def second_order_correction(s,t,ss,tt):\n",
    "    return ((s-1) * (t-1) * (np.mean(tt)-1) * (np.mean(ss) - 1 )) / (np.sum(tt-1))\n",
    "\n"
   ]
  },
  {
   "cell_type": "code",
   "execution_count": 4,
   "metadata": {},
   "outputs": [],
   "source": [
    "def plot_results(x,data,norm=None,label=None,marker='s'):\n",
    "    yy = map(lambda x: np.mean(data[x]), sorted(data.keys()));\n",
    "    std_yy = map(lambda x: np.std(data[x]), sorted(data.keys()));\n",
    "    plt.gca()\n",
    "    if norm==None:\n",
    "        plt.errorbar(x, np.array(yy), np.array(std_yy), fmt=marker,ms=10,alpha=0.6, label=label);\n",
    "    else:\n",
    "        plt.errorbar(x, np.array(yy)/float(norm), np.array(std_yy)/float(norm), fmt=marker,ms=10,alpha=0.6, label=label);\n",
    "    return;"
   ]
  },
  {
   "cell_type": "code",
   "execution_count": 5,
   "metadata": {
    "scrolled": false
   },
   "outputs": [],
   "source": [
    "from scipy.optimize import fsolve, fmin, root\n",
    "import sympy as sy\n",
    "from mis_utils import *"
   ]
  },
  {
   "cell_type": "markdown",
   "metadata": {},
   "source": [
    "# Simulation-driven comparison with IG "
   ]
  },
  {
   "cell_type": "code",
   "execution_count": 6,
   "metadata": {},
   "outputs": [],
   "source": [
    "####### analytical functions for Gaussian degree distributions \n",
    "def attempt_scipy_func_gauss(x, d,sigma, c):\n",
    "    return np.abs(x - np.power(1 - ((sigma*sigma*np.log(x)+d)/float(d*x)) * np.exp((d*np.log(x) + 0.5*sigma*sigma*np.power(np.log(x),2))), c-1));\n",
    "\n",
    "\n",
    "def minimize_gauss_pstar(xs, d, sigma, c):\n",
    "    vals = map(lambda x: attempt_scipy_func_gauss(x, d, sigma, c), xs);\n",
    "    x0 = (np.min(vals), xs[np.nanargmin(vals)])\n",
    "    return x0[1]\n",
    "\n",
    "def rho_gauss(x,d,sigma,c):\n",
    "    ed01dp0 = (1 - d - sigma*sigma*np.log(x)) * np.exp(d*np.log(x) + 0.5*sigma*sigma*np.log(x)*np.log(x))\n",
    "    return (d/c)  * (1 - np.power(x,c/float(c-1))) + (ed01dp0);\n",
    "\n",
    "def gaussian_prediction(ps,sigmas,xs=None,c=2):\n",
    "#    if xs == None:\n",
    "#        xs = np.linspace(0,1,1000);\n",
    "    import time \n",
    "    now = time.time()\n",
    "    rho_stars_gauss = []\n",
    "    for i,d in enumerate(ps):\n",
    "        p_stars_gauss = minimize_gauss_pstar(xs, d , sigmas[i], c);\n",
    "        rho_stars_gauss.append(rho_gauss(p_stars_gauss, d , sigmas[i], c));\n",
    "    return rho_stars_gauss;\n"
   ]
  },
  {
   "cell_type": "code",
   "execution_count": 7,
   "metadata": {},
   "outputs": [],
   "source": [
    "num_iter = 10;\n",
    "nN = 20;\n",
    "xs = np.linspace(0, 1, 2000); #lazy xs\n",
    "\n",
    "new_res_ig = {};\n",
    "new_av_k_ig = {}\n",
    "new_n_ig_dict = {}\n",
    "new_gauss_pred = {}\n",
    "new_gauss_pred_boost = {}\n",
    "dens = {}"
   ]
  },
  {
   "cell_type": "code",
   "execution_count": 8,
   "metadata": {
    "scrolled": false
   },
   "outputs": [
    {
     "data": {
      "application/vnd.jupyter.widget-view+json": {
       "model_id": "b654d24a08fa4b49b548b4c1abced52e",
       "version_major": 2,
       "version_minor": 0
      },
      "text/plain": [
       "HBox(children=(IntProgress(value=1, bar_style=u'info', max=1), HTML(value=u'')))"
      ]
     },
     "metadata": {},
     "output_type": "display_data"
    },
    {
     "name": "stdout",
     "output_type": "stream",
     "text": [
      "0 / 10 : 10 started: 2020-01-07 18:44:08.761196\n"
     ]
    },
    {
     "name": "stderr",
     "output_type": "stream",
     "text": [
      "/usr/local/lib/python2.7/site-packages/ipykernel_launcher.py:3: RuntimeWarning: divide by zero encountered in log\n",
      "  This is separate from the ipykernel package so we can avoid doing imports until\n",
      "/usr/local/lib/python2.7/site-packages/ipykernel_launcher.py:3: RuntimeWarning: invalid value encountered in double_scalars\n",
      "  This is separate from the ipykernel package so we can avoid doing imports until\n"
     ]
    },
    {
     "name": "stdout",
     "output_type": "stream",
     "text": [
      "1 / 10 : 10 started: 2020-01-07 18:44:09.262970\n"
     ]
    },
    {
     "name": "stderr",
     "output_type": "stream",
     "text": [
      "/usr/local/lib/python2.7/site-packages/ipykernel_launcher.py:3: RuntimeWarning: overflow encountered in exp\n",
      "  This is separate from the ipykernel package so we can avoid doing imports until\n",
      "/usr/local/lib/python2.7/site-packages/ipykernel_launcher.py:3: RuntimeWarning: overflow encountered in double_scalars\n",
      "  This is separate from the ipykernel package so we can avoid doing imports until\n"
     ]
    },
    {
     "name": "stdout",
     "output_type": "stream",
     "text": [
      "2 / 10 : 10 started: 2020-01-07 18:44:11.261188\n",
      "3 / 10 : 10 started: 2020-01-07 18:44:22.087983\n",
      "4 / 10 : 10 started: 2020-01-07 18:44:51.516753\n",
      "5 / 10 : 10 started: 2020-01-07 18:45:34.248190\n",
      "6 / 10 : 10 started: 2020-01-07 18:46:32.392622\n",
      "7 / 10 : 10 started: 2020-01-07 18:47:34.147281\n",
      "8 / 10 : 10 started: 2020-01-07 18:48:36.511053\n",
      "9 / 10 : 10 started: 2020-01-07 18:49:32.400443\n",
      "\n"
     ]
    }
   ],
   "source": [
    "import time\n",
    "from datetime import datetime\n",
    "\n",
    "import igraph as igg\n",
    "new_k_min = 1\n",
    "new_k_max = 15\n",
    "new_pmin = new_k_min/float(nN);\n",
    "new_pmax = new_k_max/float(nN);\n",
    "precision = 10\n",
    "new_ps = np.linspace(new_pmin,new_pmax,precision);\n",
    "\n",
    "from scipy.stats import norm\n",
    "\n",
    "for l,p in tqdm_notebook(enumerate(new_ps)):\n",
    "    print l, '/', precision, ':', len(new_ps), 'started:', str(datetime.now())\n",
    "    new_gauss_pred[p] = []\n",
    "    new_res_ig[p] = []\n",
    "    new_av_k_ig[p] = [];\n",
    "    new_n_ig_dict[p] = []\n",
    "    dens[p] = []\n",
    "    new_gauss_pred_boost[p] = []\n",
    "    for it in range(num_iter):\n",
    "        g = igt.create_ER_bipartite_graph(nN,p) # create ER bipartite graph\n",
    "        lg = igt.line_graph(g) # create line graph\n",
    "        ig = igt.interference_graph(lg) # create interference graph\n",
    "        ig_degs = ig.degree().values()\n",
    "        new_av_k_ig[p].append(np.mean(ig_degs)); # computed z\n",
    "        new_n_ig = ig.number_of_nodes() # compute number of tasks M\n",
    "        new_n_ig_dict[p].append(new_n_ig); # compute number of tasks M\n",
    "        nx.write_gml(ig,'test.gml'); #horrible trick\n",
    "        g_igraph = igg.load('test.gml') \n",
    "        new_res_ig[p].append( g_igraph.alpha() )  # empirical/real MIS size\n",
    "        \n",
    "        # direct prediction\n",
    "        mu = new_av_k_ig[p][-1]\n",
    "        sigma = np.std(ig_degs)\n",
    "        p_stars_gauss = minimize_gauss_pstar(xs, mu, sigma, 2); #prediction based on gaussian IG degree distribution\n",
    "        new_gauss_pred[p].append(rho_gauss(p_stars_gauss, mu , sigma, 2)); #prediction based on gaussian IG degree distribution\n",
    "        dens[p].append(nx.density(ig));\n",
    "        \n",
    "        #indirect prediction on predicted degrees\n",
    "        boosted_degree_corrected = []\n",
    "        g_degs = nx.degree(g);\n",
    "        tt = [g.degree()[i] for i in range(nN)]\n",
    "        ss = [g.degree()[i] for i in range(nN,2*nN)]\n",
    "\n",
    "        boosted_degree_corrected = []\n",
    "        for edge in g.edges():\n",
    "            boosted_degree_corrected.append(wedge_closure_boosted_degree_corrected(g_degs[edge[0]], g_degs[edge[1]], np.array(ss), np.array(tt)));\n",
    "        \n",
    "        mu = np.mean(boosted_degree_corrected)\n",
    "        sigma = np.std(boosted_degree_corrected)\n",
    "        p_stars_gauss = minimize_gauss_pstar(xs, mu, sigma, 2); #prediction based on gaussian IG degree distribution\n",
    "        new_gauss_pred_boost[p].append(rho_gauss(p_stars_gauss, mu , sigma, 2)); #prediction based on gaussian IG degree distribution"
   ]
  },
  {
   "cell_type": "code",
   "execution_count": 9,
   "metadata": {},
   "outputs": [],
   "source": [
    "cmap = plt.cm.hot\n",
    "cmaplist = [cmap(i) for i in range(cmap.N)]\n",
    "cmap = cmap.from_list('Custom cmap', cmaplist, cmap.N)"
   ]
  },
  {
   "cell_type": "code",
   "execution_count": 10,
   "metadata": {},
   "outputs": [],
   "source": [
    "av_dens = [np.mean(dens[x]) for x in new_ps]"
   ]
  },
  {
   "cell_type": "code",
   "execution_count": 11,
   "metadata": {},
   "outputs": [
    {
     "name": "stderr",
     "output_type": "stream",
     "text": [
      "/usr/local/lib/python2.7/site-packages/matplotlib/cbook/deprecation.py:107: MatplotlibDeprecationWarning: Passing one of 'on', 'true', 'off', 'false' as a boolean is deprecated; use an actual boolean (True/False) instead.\n",
      "  warnings.warn(message, mplDeprecation, stacklevel=1)\n"
     ]
    },
    {
     "data": {
      "text/plain": [
       "(0, 0.7)"
      ]
     },
     "execution_count": 11,
     "metadata": {},
     "output_type": "execute_result"
    },
    {
     "data": {
      "image/png": "[encoded data removed]",
      "text/plain": [
       "<Figure size 360x288 with 1 Axes>"
      ]
     },
     "metadata": {
      "needs_background": "light"
     },
     "output_type": "display_data"
    }
   ],
   "source": [
    "fs = 25\n",
    "fig = plt.figure(figsize=(5,4))\n",
    "ax = plt.subplot(111)\n",
    "\n",
    "data = new_gauss_pred\n",
    "yy = np.array(map(lambda x: np.mean(data[x]), sorted(data.keys())));\n",
    "std_yy = np.array(map(lambda x: np.std(data[x]), sorted(data.keys())));\n",
    "plt.fill_between(new_ps,yy+std_yy,yy-std_yy, alpha=0.3,color=cmap(150))\n",
    "\n",
    "data = new_gauss_pred_boost\n",
    "yy = np.array(map(lambda x: np.mean(data[x]), sorted(data.keys())));\n",
    "std_yy = np.array(map(lambda x: np.std(data[x]), sorted(data.keys())));\n",
    "plt.fill_between(new_ps,yy+std_yy,yy-std_yy, alpha=0.3,color=cmap(30))\n",
    "\n",
    "\n",
    "data = new_res_ig\n",
    "yy = map(lambda x: np.mean(np.array(data[x])/np.array(map(float,new_n_ig_dict[x]))), sorted(data.keys()));\n",
    "std_yy = map(lambda x: np.std(np.array(data[x])/np.array(map(float,new_n_ig_dict[x]))), sorted(data.keys()));\n",
    "plt.errorbar(new_ps,yy, std_yy, ms=0,alpha=0.4, color=cmap(av_dens),fmt='.',lw=2,mew=1.5)#,label = n_sigma)\n",
    "plt.scatter(new_ps, yy, c=cmap(av_dens), vmin=0, vmax=1)\n",
    "plt.ylabel(r'$\\rho_\\alpha$', fontsize=fs)\n",
    "plt.xlabel(r'$\\langle k \\rangle/N$', fontsize=fs)\n",
    "plt.box('off')\n",
    "plt.yticks(fontsize=15)\n",
    "plt.xticks(fontsize=15)\n",
    "plt.legend(loc=0)\n",
    "plt.tight_layout()\n",
    "plt.ylim(0,0.7)\n",
    "# plt.savefig('../submission/natphys-rebuttal/plots/MIS_IG_from_BG_densities_indirect_clean.pdf')"
   ]
  },
  {
   "cell_type": "code",
   "execution_count": 21,
   "metadata": {},
   "outputs": [],
   "source": [
    "new_x = 2.* new_ps"
   ]
  },
  {
   "cell_type": "code",
   "execution_count": 22,
   "metadata": {},
   "outputs": [
    {
     "data": {
      "text/plain": [
       "(0, 0.7)"
      ]
     },
     "execution_count": 22,
     "metadata": {},
     "output_type": "execute_result"
    },
    {
     "data": {
      "image/png": "[encoded data removed]",
      "text/plain": [
       "<Figure size 360x288 with 1 Axes>"
      ]
     },
     "metadata": {
      "needs_background": "light"
     },
     "output_type": "display_data"
    }
   ],
   "source": [
    "fs = 25\n",
    "fig = plt.figure(figsize=(5,4))\n",
    "ax = plt.subplot(111)\n",
    "\n",
    "data = new_gauss_pred\n",
    "yy = np.array(map(lambda x: np.mean(data[x]), sorted(data.keys())));\n",
    "std_yy = np.array(map(lambda x: np.std(data[x]), sorted(data.keys())));\n",
    "plt.fill_between(new_x,yy+std_yy,yy-std_yy, alpha=0.3,color=cmap(150))\n",
    "\n",
    "data = new_gauss_pred_boost\n",
    "yy = np.array(map(lambda x: np.mean(data[x]), sorted(data.keys())));\n",
    "std_yy = np.array(map(lambda x: np.std(data[x]), sorted(data.keys())));\n",
    "plt.fill_between(new_x,yy+std_yy,yy-std_yy, alpha=0.3,color=cmap(30))\n",
    "\n",
    "\n",
    "data = new_res_ig\n",
    "yy = map(lambda x: np.mean(np.array(data[x])/np.array(map(float,new_n_ig_dict[x]))), sorted(data.keys()));\n",
    "std_yy = map(lambda x: np.std(np.array(data[x])/np.array(map(float,new_n_ig_dict[x]))), sorted(data.keys()));\n",
    "plt.errorbar(new_x,yy, std_yy, ms=0,alpha=0.4, color=cmap(av_dens),fmt='.',lw=2,mew=1.5)#,label = n_sigma)\n",
    "plt.scatter(new_x, yy, c=cmap(av_dens), vmin=0, vmax=1)\n",
    "plt.ylabel(r'$\\rho_\\alpha$', fontsize=fs)\n",
    "plt.xlabel(r'$\\langle k \\rangle/N$', fontsize=fs)\n",
    "plt.box('off')\n",
    "plt.yticks(fontsize=15)\n",
    "plt.xticks(fontsize=15)\n",
    "plt.legend(loc=0)\n",
    "plt.tight_layout()\n",
    "plt.ylim(0,0.7)\n",
    "# plt.savefig('../submission/natphys-rebuttal/plots/MIS_IG_from_BG_densities_indirect_clean.pdf')"
   ]
  },
  {
   "cell_type": "code",
   "execution_count": null,
   "metadata": {},
   "outputs": [],
   "source": []
  }
 ],
 "metadata": {
  "kernelspec": {
   "display_name": "Python 2",
   "language": "python",
   "name": "python2"
  },
  "language_info": {
   "codemirror_mode": {
    "name": "ipython",
    "version": 2
   },
   "file_extension": ".py",
   "mimetype": "text/x-python",
   "name": "python",
   "nbconvert_exporter": "python",
   "pygments_lexer": "ipython2",
   "version": "2.7.17"
  },
  "nav_menu": {},
  "toc": {
   "nav_menu": {},
   "number_sections": true,
   "sideBar": false,
   "skip_h1_title": false,
   "toc_cell": false,
   "toc_position": {},
   "toc_section_display": "block",
   "toc_window_display": false
  }
 },
 "nbformat": 4,
 "nbformat_minor": 1
}
