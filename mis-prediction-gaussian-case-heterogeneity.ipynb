{
 "cells": [
  {
   "cell_type": "code",
   "execution_count": 1,
   "metadata": {
    "ExecuteTime": {
     "end_time": "2020-11-18T13:18:20.304099Z",
     "start_time": "2020-11-18T13:18:19.254338Z"
    }
   },
   "outputs": [],
   "source": [
    "%matplotlib inline\n",
    "import pandas as pd\n",
    "import IGtools as igt\n",
    "import networkx as nx\n",
    "import os, sys \n",
    "import matplotlib.pyplot as plt\n",
    "import pandas as pd\n",
    "import numpy as np\n",
    "from tqdm import tqdm_notebook"
   ]
  },
  {
   "cell_type": "code",
   "execution_count": 2,
   "metadata": {
    "ExecuteTime": {
     "end_time": "2020-11-18T13:18:20.332226Z",
     "start_time": "2020-11-18T13:18:20.306566Z"
    }
   },
   "outputs": [],
   "source": [
    "import igraph as ig"
   ]
  },
  {
   "cell_type": "code",
   "execution_count": 3,
   "metadata": {
    "ExecuteTime": {
     "end_time": "2020-11-18T13:18:20.336675Z",
     "start_time": "2020-11-18T13:18:20.334208Z"
    }
   },
   "outputs": [],
   "source": [
    "num_iter = 10;\n",
    "N = 100;\n",
    "k_min = 1\n",
    "k_max = 25\n",
    "ps = range(k_min,k_max);"
   ]
  },
  {
   "cell_type": "code",
   "execution_count": 4,
   "metadata": {
    "ExecuteTime": {
     "end_time": "2020-11-18T13:18:20.910638Z",
     "start_time": "2020-11-18T13:18:20.338737Z"
    },
    "scrolled": false
   },
   "outputs": [],
   "source": [
    "from scipy.optimize import fsolve, fmin, root\n",
    "import sympy as sy\n",
    "from mis_utils import *"
   ]
  },
  {
   "cell_type": "markdown",
   "metadata": {},
   "source": [
    " ## simple example of solution for gaussian degree-distributed networks"
   ]
  },
  {
   "cell_type": "code",
   "execution_count": 5,
   "metadata": {
    "ExecuteTime": {
     "end_time": "2020-11-18T13:18:20.915047Z",
     "start_time": "2020-11-18T13:18:20.911985Z"
    }
   },
   "outputs": [],
   "source": [
    "N = 100\n",
    "k_min = 1\n",
    "k_max = 50\n",
    "pmin = k_min/float(N);\n",
    "pmax = k_max/float(N);\n",
    "psp = range(k_min,k_max,1);"
   ]
  },
  {
   "cell_type": "code",
   "execution_count": 6,
   "metadata": {
    "ExecuteTime": {
     "end_time": "2020-11-18T13:18:22.821433Z",
     "start_time": "2020-11-18T13:18:20.916680Z"
    }
   },
   "outputs": [],
   "source": [
    "x_p = range(0,11);\n",
    "p_stars = []\n",
    "for l in x_p:\n",
    "    p_stars.append(sy.N(p_star(l,2)[0]));\n",
    "\n",
    "rhos = []\n",
    "for i,s in enumerate(x_p):\n",
    "    rhos.append( rho(s,2,p_stars[i]) )"
   ]
  },
  {
   "cell_type": "code",
   "execution_count": 7,
   "metadata": {
    "ExecuteTime": {
     "end_time": "2020-11-18T13:18:23.275353Z",
     "start_time": "2020-11-18T13:18:22.824969Z"
    }
   },
   "outputs": [
    {
     "ename": "RuntimeError",
     "evalue": "matplotlib does not support generators as input",
     "output_type": "error",
     "traceback": [
      "\u001b[0;31m---------------------------------------------------------------------------\u001b[0m",
      "\u001b[0;31mRuntimeError\u001b[0m                              Traceback (most recent call last)",
      "\u001b[0;32m<ipython-input-7-e835b447d356>\u001b[0m in \u001b[0;36m<module>\u001b[0;34m\u001b[0m\n\u001b[1;32m      2\u001b[0m \u001b[0mpss\u001b[0m \u001b[0;34m=\u001b[0m \u001b[0mnp\u001b[0m\u001b[0;34m.\u001b[0m\u001b[0mlinspace\u001b[0m\u001b[0;34m(\u001b[0m\u001b[0mps\u001b[0m\u001b[0;34m[\u001b[0m\u001b[0;36m0\u001b[0m\u001b[0;34m]\u001b[0m\u001b[0;34m,\u001b[0m\u001b[0mps\u001b[0m\u001b[0;34m[\u001b[0m\u001b[0;34m-\u001b[0m\u001b[0;36m1\u001b[0m\u001b[0;34m]\u001b[0m\u001b[0;34m,\u001b[0m\u001b[0;36m100\u001b[0m\u001b[0;34m)\u001b[0m\u001b[0;34m\u001b[0m\u001b[0;34m\u001b[0m\u001b[0m\n\u001b[1;32m      3\u001b[0m \u001b[0mxs\u001b[0m \u001b[0;34m=\u001b[0m \u001b[0mnp\u001b[0m\u001b[0;34m.\u001b[0m\u001b[0mlinspace\u001b[0m\u001b[0;34m(\u001b[0m\u001b[0;36m0\u001b[0m\u001b[0;34m,\u001b[0m\u001b[0;36m1\u001b[0m\u001b[0;34m,\u001b[0m\u001b[0;36m5000\u001b[0m\u001b[0;34m)\u001b[0m\u001b[0;34m;\u001b[0m\u001b[0;34m\u001b[0m\u001b[0;34m\u001b[0m\u001b[0m\n\u001b[0;32m----> 4\u001b[0;31m \u001b[0mplt\u001b[0m\u001b[0;34m.\u001b[0m\u001b[0mplot\u001b[0m\u001b[0;34m(\u001b[0m\u001b[0mpss\u001b[0m\u001b[0;34m,\u001b[0m \u001b[0mmap\u001b[0m\u001b[0;34m(\u001b[0m\u001b[0;32mlambda\u001b[0m \u001b[0mx\u001b[0m\u001b[0;34m:\u001b[0m \u001b[0mminimize_gauss_pstar\u001b[0m\u001b[0;34m(\u001b[0m\u001b[0mxs\u001b[0m\u001b[0;34m,\u001b[0m \u001b[0mx\u001b[0m\u001b[0;34m,\u001b[0m \u001b[0;36m4\u001b[0m\u001b[0;34m,\u001b[0m\u001b[0mc\u001b[0m\u001b[0;34m)\u001b[0m\u001b[0;34m,\u001b[0m \u001b[0mpss\u001b[0m\u001b[0;34m)\u001b[0m\u001b[0;34m,\u001b[0m\u001b[0;34m'.'\u001b[0m\u001b[0;34m,\u001b[0m \u001b[0mlabel\u001b[0m \u001b[0;34m=\u001b[0m \u001b[0;34m'4'\u001b[0m\u001b[0;34m)\u001b[0m\u001b[0;34m\u001b[0m\u001b[0;34m\u001b[0m\u001b[0m\n\u001b[0m\u001b[1;32m      5\u001b[0m \u001b[0mplt\u001b[0m\u001b[0;34m.\u001b[0m\u001b[0mplot\u001b[0m\u001b[0;34m(\u001b[0m\u001b[0mpss\u001b[0m\u001b[0;34m,\u001b[0m \u001b[0mmap\u001b[0m\u001b[0;34m(\u001b[0m\u001b[0;32mlambda\u001b[0m \u001b[0mx\u001b[0m\u001b[0;34m:\u001b[0m \u001b[0mminimize_gauss_pstar\u001b[0m\u001b[0;34m(\u001b[0m\u001b[0mxs\u001b[0m\u001b[0;34m,\u001b[0m \u001b[0mx\u001b[0m\u001b[0;34m,\u001b[0m \u001b[0;36m3\u001b[0m\u001b[0;34m,\u001b[0m\u001b[0mc\u001b[0m\u001b[0;34m)\u001b[0m\u001b[0;34m,\u001b[0m \u001b[0mpss\u001b[0m\u001b[0;34m)\u001b[0m\u001b[0;34m,\u001b[0m\u001b[0;34m'.'\u001b[0m\u001b[0;34m,\u001b[0m \u001b[0mlabel\u001b[0m \u001b[0;34m=\u001b[0m \u001b[0;34m'3'\u001b[0m\u001b[0;34m)\u001b[0m\u001b[0;34m\u001b[0m\u001b[0;34m\u001b[0m\u001b[0m\n\u001b[1;32m      6\u001b[0m \u001b[0mplt\u001b[0m\u001b[0;34m.\u001b[0m\u001b[0mplot\u001b[0m\u001b[0;34m(\u001b[0m\u001b[0mpss\u001b[0m\u001b[0;34m,\u001b[0m \u001b[0mmap\u001b[0m\u001b[0;34m(\u001b[0m\u001b[0;32mlambda\u001b[0m \u001b[0mx\u001b[0m\u001b[0;34m:\u001b[0m \u001b[0mminimize_gauss_pstar\u001b[0m\u001b[0;34m(\u001b[0m\u001b[0mxs\u001b[0m\u001b[0;34m,\u001b[0m \u001b[0mx\u001b[0m\u001b[0;34m,\u001b[0m \u001b[0;36m2\u001b[0m\u001b[0;34m,\u001b[0m\u001b[0mc\u001b[0m\u001b[0;34m)\u001b[0m\u001b[0;34m,\u001b[0m \u001b[0mpss\u001b[0m\u001b[0;34m)\u001b[0m\u001b[0;34m,\u001b[0m\u001b[0;34m'.'\u001b[0m\u001b[0;34m,\u001b[0m \u001b[0mlabel\u001b[0m \u001b[0;34m=\u001b[0m \u001b[0;34m'2'\u001b[0m\u001b[0;34m)\u001b[0m\u001b[0;34m\u001b[0m\u001b[0;34m\u001b[0m\u001b[0m\n",
      "\u001b[0;32m~/Environments/pyenv3.8/lib/python3.8/site-packages/matplotlib/pyplot.py\u001b[0m in \u001b[0;36mplot\u001b[0;34m(scalex, scaley, data, *args, **kwargs)\u001b[0m\n\u001b[1;32m   2838\u001b[0m \u001b[0;34m@\u001b[0m\u001b[0m_copy_docstring_and_deprecators\u001b[0m\u001b[0;34m(\u001b[0m\u001b[0mAxes\u001b[0m\u001b[0;34m.\u001b[0m\u001b[0mplot\u001b[0m\u001b[0;34m)\u001b[0m\u001b[0;34m\u001b[0m\u001b[0;34m\u001b[0m\u001b[0m\n\u001b[1;32m   2839\u001b[0m \u001b[0;32mdef\u001b[0m \u001b[0mplot\u001b[0m\u001b[0;34m(\u001b[0m\u001b[0;34m*\u001b[0m\u001b[0margs\u001b[0m\u001b[0;34m,\u001b[0m \u001b[0mscalex\u001b[0m\u001b[0;34m=\u001b[0m\u001b[0;32mTrue\u001b[0m\u001b[0;34m,\u001b[0m \u001b[0mscaley\u001b[0m\u001b[0;34m=\u001b[0m\u001b[0;32mTrue\u001b[0m\u001b[0;34m,\u001b[0m \u001b[0mdata\u001b[0m\u001b[0;34m=\u001b[0m\u001b[0;32mNone\u001b[0m\u001b[0;34m,\u001b[0m \u001b[0;34m**\u001b[0m\u001b[0mkwargs\u001b[0m\u001b[0;34m)\u001b[0m\u001b[0;34m:\u001b[0m\u001b[0;34m\u001b[0m\u001b[0;34m\u001b[0m\u001b[0m\n\u001b[0;32m-> 2840\u001b[0;31m     return gca().plot(\n\u001b[0m\u001b[1;32m   2841\u001b[0m         \u001b[0;34m*\u001b[0m\u001b[0margs\u001b[0m\u001b[0;34m,\u001b[0m \u001b[0mscalex\u001b[0m\u001b[0;34m=\u001b[0m\u001b[0mscalex\u001b[0m\u001b[0;34m,\u001b[0m \u001b[0mscaley\u001b[0m\u001b[0;34m=\u001b[0m\u001b[0mscaley\u001b[0m\u001b[0;34m,\u001b[0m\u001b[0;34m\u001b[0m\u001b[0;34m\u001b[0m\u001b[0m\n\u001b[1;32m   2842\u001b[0m         **({\"data\": data} if data is not None else {}), **kwargs)\n",
      "\u001b[0;32m~/Environments/pyenv3.8/lib/python3.8/site-packages/matplotlib/axes/_axes.py\u001b[0m in \u001b[0;36mplot\u001b[0;34m(self, scalex, scaley, data, *args, **kwargs)\u001b[0m\n\u001b[1;32m   1741\u001b[0m         \"\"\"\n\u001b[1;32m   1742\u001b[0m         \u001b[0mkwargs\u001b[0m \u001b[0;34m=\u001b[0m \u001b[0mcbook\u001b[0m\u001b[0;34m.\u001b[0m\u001b[0mnormalize_kwargs\u001b[0m\u001b[0;34m(\u001b[0m\u001b[0mkwargs\u001b[0m\u001b[0;34m,\u001b[0m \u001b[0mmlines\u001b[0m\u001b[0;34m.\u001b[0m\u001b[0mLine2D\u001b[0m\u001b[0;34m)\u001b[0m\u001b[0;34m\u001b[0m\u001b[0;34m\u001b[0m\u001b[0m\n\u001b[0;32m-> 1743\u001b[0;31m         \u001b[0mlines\u001b[0m \u001b[0;34m=\u001b[0m \u001b[0;34m[\u001b[0m\u001b[0;34m*\u001b[0m\u001b[0mself\u001b[0m\u001b[0;34m.\u001b[0m\u001b[0m_get_lines\u001b[0m\u001b[0;34m(\u001b[0m\u001b[0;34m*\u001b[0m\u001b[0margs\u001b[0m\u001b[0;34m,\u001b[0m \u001b[0mdata\u001b[0m\u001b[0;34m=\u001b[0m\u001b[0mdata\u001b[0m\u001b[0;34m,\u001b[0m \u001b[0;34m**\u001b[0m\u001b[0mkwargs\u001b[0m\u001b[0;34m)\u001b[0m\u001b[0;34m]\u001b[0m\u001b[0;34m\u001b[0m\u001b[0;34m\u001b[0m\u001b[0m\n\u001b[0m\u001b[1;32m   1744\u001b[0m         \u001b[0;32mfor\u001b[0m \u001b[0mline\u001b[0m \u001b[0;32min\u001b[0m \u001b[0mlines\u001b[0m\u001b[0;34m:\u001b[0m\u001b[0;34m\u001b[0m\u001b[0;34m\u001b[0m\u001b[0m\n\u001b[1;32m   1745\u001b[0m             \u001b[0mself\u001b[0m\u001b[0;34m.\u001b[0m\u001b[0madd_line\u001b[0m\u001b[0;34m(\u001b[0m\u001b[0mline\u001b[0m\u001b[0;34m)\u001b[0m\u001b[0;34m\u001b[0m\u001b[0;34m\u001b[0m\u001b[0m\n",
      "\u001b[0;32m~/Environments/pyenv3.8/lib/python3.8/site-packages/matplotlib/axes/_base.py\u001b[0m in \u001b[0;36m__call__\u001b[0;34m(self, data, *args, **kwargs)\u001b[0m\n\u001b[1;32m    271\u001b[0m                 \u001b[0mthis\u001b[0m \u001b[0;34m+=\u001b[0m \u001b[0margs\u001b[0m\u001b[0;34m[\u001b[0m\u001b[0;36m0\u001b[0m\u001b[0;34m]\u001b[0m\u001b[0;34m,\u001b[0m\u001b[0;34m\u001b[0m\u001b[0;34m\u001b[0m\u001b[0m\n\u001b[1;32m    272\u001b[0m                 \u001b[0margs\u001b[0m \u001b[0;34m=\u001b[0m \u001b[0margs\u001b[0m\u001b[0;34m[\u001b[0m\u001b[0;36m1\u001b[0m\u001b[0;34m:\u001b[0m\u001b[0;34m]\u001b[0m\u001b[0;34m\u001b[0m\u001b[0;34m\u001b[0m\u001b[0m\n\u001b[0;32m--> 273\u001b[0;31m             \u001b[0;32myield\u001b[0m \u001b[0;32mfrom\u001b[0m \u001b[0mself\u001b[0m\u001b[0;34m.\u001b[0m\u001b[0m_plot_args\u001b[0m\u001b[0;34m(\u001b[0m\u001b[0mthis\u001b[0m\u001b[0;34m,\u001b[0m \u001b[0mkwargs\u001b[0m\u001b[0;34m)\u001b[0m\u001b[0;34m\u001b[0m\u001b[0;34m\u001b[0m\u001b[0m\n\u001b[0m\u001b[1;32m    274\u001b[0m \u001b[0;34m\u001b[0m\u001b[0m\n\u001b[1;32m    275\u001b[0m     \u001b[0;32mdef\u001b[0m \u001b[0mget_next_color\u001b[0m\u001b[0;34m(\u001b[0m\u001b[0mself\u001b[0m\u001b[0;34m)\u001b[0m\u001b[0;34m:\u001b[0m\u001b[0;34m\u001b[0m\u001b[0;34m\u001b[0m\u001b[0m\n",
      "\u001b[0;32m~/Environments/pyenv3.8/lib/python3.8/site-packages/matplotlib/axes/_base.py\u001b[0m in \u001b[0;36m_plot_args\u001b[0;34m(self, tup, kwargs)\u001b[0m\n\u001b[1;32m    394\u001b[0m             \u001b[0mself\u001b[0m\u001b[0;34m.\u001b[0m\u001b[0maxes\u001b[0m\u001b[0;34m.\u001b[0m\u001b[0mxaxis\u001b[0m\u001b[0;34m.\u001b[0m\u001b[0mupdate_units\u001b[0m\u001b[0;34m(\u001b[0m\u001b[0mx\u001b[0m\u001b[0;34m)\u001b[0m\u001b[0;34m\u001b[0m\u001b[0;34m\u001b[0m\u001b[0m\n\u001b[1;32m    395\u001b[0m         \u001b[0;32mif\u001b[0m \u001b[0mself\u001b[0m\u001b[0;34m.\u001b[0m\u001b[0maxes\u001b[0m\u001b[0;34m.\u001b[0m\u001b[0myaxis\u001b[0m \u001b[0;32mis\u001b[0m \u001b[0;32mnot\u001b[0m \u001b[0;32mNone\u001b[0m\u001b[0;34m:\u001b[0m\u001b[0;34m\u001b[0m\u001b[0;34m\u001b[0m\u001b[0m\n\u001b[0;32m--> 396\u001b[0;31m             \u001b[0mself\u001b[0m\u001b[0;34m.\u001b[0m\u001b[0maxes\u001b[0m\u001b[0;34m.\u001b[0m\u001b[0myaxis\u001b[0m\u001b[0;34m.\u001b[0m\u001b[0mupdate_units\u001b[0m\u001b[0;34m(\u001b[0m\u001b[0my\u001b[0m\u001b[0;34m)\u001b[0m\u001b[0;34m\u001b[0m\u001b[0;34m\u001b[0m\u001b[0m\n\u001b[0m\u001b[1;32m    397\u001b[0m \u001b[0;34m\u001b[0m\u001b[0m\n\u001b[1;32m    398\u001b[0m         \u001b[0;32mif\u001b[0m \u001b[0mx\u001b[0m\u001b[0;34m.\u001b[0m\u001b[0mshape\u001b[0m\u001b[0;34m[\u001b[0m\u001b[0;36m0\u001b[0m\u001b[0;34m]\u001b[0m \u001b[0;34m!=\u001b[0m \u001b[0my\u001b[0m\u001b[0;34m.\u001b[0m\u001b[0mshape\u001b[0m\u001b[0;34m[\u001b[0m\u001b[0;36m0\u001b[0m\u001b[0;34m]\u001b[0m\u001b[0;34m:\u001b[0m\u001b[0;34m\u001b[0m\u001b[0;34m\u001b[0m\u001b[0m\n",
      "\u001b[0;32m~/Environments/pyenv3.8/lib/python3.8/site-packages/matplotlib/axis.py\u001b[0m in \u001b[0;36mupdate_units\u001b[0;34m(self, data)\u001b[0m\n\u001b[1;32m   1458\u001b[0m         \u001b[0;32mif\u001b[0m \u001b[0;34m*\u001b[0m\u001b[0mdata\u001b[0m\u001b[0;34m*\u001b[0m \u001b[0;32mis\u001b[0m \u001b[0mregistered\u001b[0m \u001b[0;32mfor\u001b[0m \u001b[0munit\u001b[0m \u001b[0mconversion\u001b[0m\u001b[0;34m.\u001b[0m\u001b[0;34m\u001b[0m\u001b[0;34m\u001b[0m\u001b[0m\n\u001b[1;32m   1459\u001b[0m         \"\"\"\n\u001b[0;32m-> 1460\u001b[0;31m         \u001b[0mconverter\u001b[0m \u001b[0;34m=\u001b[0m \u001b[0mmunits\u001b[0m\u001b[0;34m.\u001b[0m\u001b[0mregistry\u001b[0m\u001b[0;34m.\u001b[0m\u001b[0mget_converter\u001b[0m\u001b[0;34m(\u001b[0m\u001b[0mdata\u001b[0m\u001b[0;34m)\u001b[0m\u001b[0;34m\u001b[0m\u001b[0;34m\u001b[0m\u001b[0m\n\u001b[0m\u001b[1;32m   1461\u001b[0m         \u001b[0;32mif\u001b[0m \u001b[0mconverter\u001b[0m \u001b[0;32mis\u001b[0m \u001b[0;32mNone\u001b[0m\u001b[0;34m:\u001b[0m\u001b[0;34m\u001b[0m\u001b[0;34m\u001b[0m\u001b[0m\n\u001b[1;32m   1462\u001b[0m             \u001b[0;32mreturn\u001b[0m \u001b[0;32mFalse\u001b[0m\u001b[0;34m\u001b[0m\u001b[0;34m\u001b[0m\u001b[0m\n",
      "\u001b[0;32m~/Environments/pyenv3.8/lib/python3.8/site-packages/matplotlib/units.py\u001b[0m in \u001b[0;36mget_converter\u001b[0;34m(self, x)\u001b[0m\n\u001b[1;32m    215\u001b[0m             \u001b[0;31m# which indexing returns instances of the same iterable class.\u001b[0m\u001b[0;34m\u001b[0m\u001b[0;34m\u001b[0m\u001b[0;34m\u001b[0m\u001b[0m\n\u001b[1;32m    216\u001b[0m             \u001b[0;32mif\u001b[0m \u001b[0mtype\u001b[0m\u001b[0;34m(\u001b[0m\u001b[0mfirst\u001b[0m\u001b[0;34m)\u001b[0m \u001b[0;32mis\u001b[0m \u001b[0;32mnot\u001b[0m \u001b[0mtype\u001b[0m\u001b[0;34m(\u001b[0m\u001b[0mx\u001b[0m\u001b[0;34m)\u001b[0m\u001b[0;34m:\u001b[0m\u001b[0;34m\u001b[0m\u001b[0;34m\u001b[0m\u001b[0m\n\u001b[0;32m--> 217\u001b[0;31m                 \u001b[0;32mreturn\u001b[0m \u001b[0mself\u001b[0m\u001b[0;34m.\u001b[0m\u001b[0mget_converter\u001b[0m\u001b[0;34m(\u001b[0m\u001b[0mfirst\u001b[0m\u001b[0;34m)\u001b[0m\u001b[0;34m\u001b[0m\u001b[0;34m\u001b[0m\u001b[0m\n\u001b[0m\u001b[1;32m    218\u001b[0m         \u001b[0;32mreturn\u001b[0m \u001b[0;32mNone\u001b[0m\u001b[0;34m\u001b[0m\u001b[0;34m\u001b[0m\u001b[0m\n\u001b[1;32m    219\u001b[0m \u001b[0;34m\u001b[0m\u001b[0m\n",
      "\u001b[0;32m~/Environments/pyenv3.8/lib/python3.8/site-packages/matplotlib/units.py\u001b[0m in \u001b[0;36mget_converter\u001b[0;34m(self, x)\u001b[0m\n\u001b[1;32m    208\u001b[0m                 \u001b[0;32mpass\u001b[0m\u001b[0;34m\u001b[0m\u001b[0;34m\u001b[0m\u001b[0m\n\u001b[1;32m    209\u001b[0m         \u001b[0;32mtry\u001b[0m\u001b[0;34m:\u001b[0m  \u001b[0;31m# If cache lookup fails, look up based on first element...\u001b[0m\u001b[0;34m\u001b[0m\u001b[0;34m\u001b[0m\u001b[0m\n\u001b[0;32m--> 210\u001b[0;31m             \u001b[0mfirst\u001b[0m \u001b[0;34m=\u001b[0m \u001b[0mcbook\u001b[0m\u001b[0;34m.\u001b[0m\u001b[0msafe_first_element\u001b[0m\u001b[0;34m(\u001b[0m\u001b[0mx\u001b[0m\u001b[0;34m)\u001b[0m\u001b[0;34m\u001b[0m\u001b[0;34m\u001b[0m\u001b[0m\n\u001b[0m\u001b[1;32m    211\u001b[0m         \u001b[0;32mexcept\u001b[0m \u001b[0;34m(\u001b[0m\u001b[0mTypeError\u001b[0m\u001b[0;34m,\u001b[0m \u001b[0mStopIteration\u001b[0m\u001b[0;34m)\u001b[0m\u001b[0;34m:\u001b[0m\u001b[0;34m\u001b[0m\u001b[0;34m\u001b[0m\u001b[0m\n\u001b[1;32m    212\u001b[0m             \u001b[0;32mpass\u001b[0m\u001b[0;34m\u001b[0m\u001b[0;34m\u001b[0m\u001b[0m\n",
      "\u001b[0;32m~/Environments/pyenv3.8/lib/python3.8/site-packages/matplotlib/cbook/__init__.py\u001b[0m in \u001b[0;36msafe_first_element\u001b[0;34m(obj)\u001b[0m\n\u001b[1;32m   1667\u001b[0m         \u001b[0;32mexcept\u001b[0m \u001b[0mTypeError\u001b[0m\u001b[0;34m:\u001b[0m\u001b[0;34m\u001b[0m\u001b[0;34m\u001b[0m\u001b[0m\n\u001b[1;32m   1668\u001b[0m             \u001b[0;32mpass\u001b[0m\u001b[0;34m\u001b[0m\u001b[0;34m\u001b[0m\u001b[0m\n\u001b[0;32m-> 1669\u001b[0;31m         raise RuntimeError(\"matplotlib does not support generators \"\n\u001b[0m\u001b[1;32m   1670\u001b[0m                            \"as input\")\n\u001b[1;32m   1671\u001b[0m     \u001b[0;32mreturn\u001b[0m \u001b[0mnext\u001b[0m\u001b[0;34m(\u001b[0m\u001b[0miter\u001b[0m\u001b[0;34m(\u001b[0m\u001b[0mobj\u001b[0m\u001b[0;34m)\u001b[0m\u001b[0;34m)\u001b[0m\u001b[0;34m\u001b[0m\u001b[0;34m\u001b[0m\u001b[0m\n",
      "\u001b[0;31mRuntimeError\u001b[0m: matplotlib does not support generators as input"
     ]
    },
    {
     "data": {
      "image/png": "[encoded data removed]",
      "text/plain": [
       "<Figure size 432x288 with 1 Axes>"
      ]
     },
     "metadata": {
      "needs_background": "light"
     },
     "output_type": "display_data"
    }
   ],
   "source": [
    "c = 2\n",
    "pss = np.linspace(ps[0],ps[-1],100)\n",
    "xs = np.linspace(0,1,5000);\n",
    "plt.plot(pss, map(lambda x: minimize_gauss_pstar(xs, x, 4,c), pss),'.', label = '4')\n",
    "plt.plot(pss, map(lambda x: minimize_gauss_pstar(xs, x, 3,c), pss),'.', label = '3')\n",
    "plt.plot(pss, map(lambda x: minimize_gauss_pstar(xs, x, 2,c), pss),'.', label = '2')\n",
    "plt.plot(pss, map(lambda x: minimize_gauss_pstar(xs, x, 1.5,c), pss),'.', label = '1.5')\n",
    "plt.plot(pss, map(lambda x: minimize_gauss_pstar(xs, x, 1,c), pss),'.', label = '1')\n",
    "plt.legend(loc=0)"
   ]
  },
  {
   "cell_type": "code",
   "execution_count": null,
   "metadata": {
    "ExecuteTime": {
     "end_time": "2020-11-18T13:18:23.284511Z",
     "start_time": "2020-11-18T13:18:19.253Z"
    }
   },
   "outputs": [],
   "source": [
    "# define the colormap\n",
    "cmap = plt.cm.hot\n",
    "# extract all colors from the .jet map\n",
    "cmaplist = [cmap(i) for i in range(cmap.N)]\n",
    "# create the new map\n",
    "cmap = cmap.from_list('Custom cmap', cmaplist, cmap.N)"
   ]
  },
  {
   "cell_type": "code",
   "execution_count": null,
   "metadata": {
    "ExecuteTime": {
     "end_time": "2020-11-18T13:18:23.286816Z",
     "start_time": "2020-11-18T13:18:19.255Z"
    }
   },
   "outputs": [],
   "source": [
    "x_p = range(k_min,k_max,1);\n",
    "p_stars = []\n",
    "for l in x_p:\n",
    "    p_stars.append(sy.N(p_star(l,2)[0]));\n",
    "\n",
    "rhos = []\n",
    "for i,s in enumerate(x_p):\n",
    "    rhos.append( rho(s,2,p_stars[i]) )"
   ]
  },
  {
   "cell_type": "code",
   "execution_count": null,
   "metadata": {
    "ExecuteTime": {
     "end_time": "2020-11-18T13:18:23.291324Z",
     "start_time": "2020-11-18T13:18:19.257Z"
    },
    "scrolled": false
   },
   "outputs": [],
   "source": [
    "n_sigmas = np.linspace(0,2,11)#range(1,5);\n",
    "sigmas = {}\n",
    "pss = np.linspace(k_min,k_max,100)\n",
    "fig = plt.figure(figsize=(12,10))\n",
    "for ii,n_sigma in tqdm_notebook(enumerate(n_sigmas)):\n",
    "    print n_sigma\n",
    "    sigmas = map(lambda x: n_sigma*np.sqrt(x), pss);\n",
    "    plt.plot(pss, gaussian_prediction(pss, sigmas,xs=np.linspace(0,1,10000)),'--s',color=cmap(ii*30), label=r'$\\sigma^2 =$'+str(n_sigma)+r'$\\mu$')\n",
    "plt.legend(loc=0)\n",
    "\n",
    "x_p = range(k_min,k_max,1);\n",
    "p_stars = []\n",
    "for l in tqdm_notebook(x_p):\n",
    "    p_stars.append(sy.N(p_star(l,2)[0]));\n",
    "\n",
    "rhos = []\n",
    "for i,s in enumerate(x_p):\n",
    "    rhos.append( rho(s,2,p_stars[i]) )\n",
    "plt.plot(x_p,rhos,'-')"
   ]
  },
  {
   "cell_type": "markdown",
   "metadata": {},
   "source": [
    "# Comparison with simulations"
   ]
  },
  {
   "cell_type": "code",
   "execution_count": null,
   "metadata": {
    "ExecuteTime": {
     "end_time": "2020-11-18T13:18:23.293578Z",
     "start_time": "2020-11-18T13:18:19.260Z"
    }
   },
   "outputs": [],
   "source": [
    "n_sigmas_redux = [ 0. ,  0.4, 0.8,  1. ,  1.2,  1.6 ]"
   ]
  },
  {
   "cell_type": "code",
   "execution_count": null,
   "metadata": {
    "ExecuteTime": {
     "end_time": "2020-11-18T13:18:23.296660Z",
     "start_time": "2020-11-18T13:18:19.264Z"
    }
   },
   "outputs": [],
   "source": [
    "num_iter = 20;\n",
    "N = 50;\n",
    "\n",
    "res_ig = {};\n",
    "res_ig_fg = {}\n",
    "res_ig_fg_v1 = {}\n",
    "res_ig_fg_v2 = {}\n",
    "res_ig_fg_clique = {}\n",
    "res_leaf_branch = {}\n",
    "res_leaf_core = {}\n",
    "av_k_ig = {}\n",
    "n_ig_dict = {}\n",
    "import time\n",
    "from datetime import datetime\n",
    "\n",
    "import igraph as igg\n",
    "\n",
    "from scipy.stats import norm\n",
    "xs = np.linspace(0,1,10000)\n",
    "\n",
    "for n_sigma in tqdm_notebook(n_sigmas_redux):\n",
    "    print n_sigma;\n",
    "    res_ig[n_sigma] = {};\n",
    "    av_k_ig[n_sigma] = {};\n",
    "    n_ig_dict[n_sigma] = {};\n",
    "\n",
    "    for l,p in tqdm_notebook(enumerate(pss)):\n",
    "        print l, '/', len(pss), ':', p, 'started:', str(datetime.now())\n",
    "        res_ig[n_sigma][p] = []\n",
    "        av_k_ig[n_sigma][p] = [];\n",
    "        n_ig_dict[n_sigma][p] = []\n",
    "        for it in range(num_iter):\n",
    "            deg = map(lambda x: np.max([0, int(x)]), norm.rvs(p,n_sigma*np.sqrt(p),N));\n",
    "            if not np.sum(deg)%2==0:\n",
    "                deg[0]+=1;\n",
    "            g = nx.configuration_model(deg) # DIRECT generation of the graph \n",
    "            av_k_ig[n_sigma][p].append(np.mean(g.degree().values())); # average degree\n",
    "            n_g = g.number_of_nodes() ## this is the number of nodes, used to normalize the alpha number found below\n",
    "            n_ig_dict[n_sigma][p].append(n_g); # number of IG nodes (tasks)\n",
    "            nx.write_gml(g,'test.gml'); #horrible trick to pass from nx to ig\n",
    "            g_igraph = igg.load('test.gml')\n",
    "            res_ig[n_sigma][p].append( g_igraph.alpha() / float(n_g) )   # density of the IG MIS (properly normalized)"
   ]
  },
  {
   "cell_type": "code",
   "execution_count": null,
   "metadata": {
    "ExecuteTime": {
     "end_time": "2020-11-18T13:18:23.303294Z",
     "start_time": "2020-11-18T13:18:19.267Z"
    }
   },
   "outputs": [],
   "source": [
    "cmap = plt.cm.hot\n",
    "cmaplist = [cmap(i) for i in range(cmap.N)]\n",
    "cmap = cmap.from_list('Custom cmap', cmaplist, cmap.N)"
   ]
  },
  {
   "cell_type": "code",
   "execution_count": null,
   "metadata": {
    "ExecuteTime": {
     "end_time": "2020-11-18T13:18:23.308053Z",
     "start_time": "2020-11-18T13:18:19.270Z"
    },
    "scrolled": false
   },
   "outputs": [],
   "source": [
    "n_sigmas = np.linspace(0,2,11)#range(1,5);\n",
    "sigmas = {}\n",
    "pss = np.linspace(k_min,k_max,100)\n",
    "fig = plt.figure(figsize=(20,20))\n",
    "preds_df = pd.DataFrame()\n",
    "for i, n_sigma in enumerate(sorted(res_ig.keys())):\n",
    "    plt.subplot(4,3,i+1)\n",
    "    print n_sigma\n",
    "    data = res_ig[n_sigma]\n",
    "    yy = map(lambda x: np.mean(data[x]), sorted(data.keys()));\n",
    "    std_yy = map(lambda x: np.std(data[x]), sorted(data.keys()));\n",
    "    plt.errorbar(pss, yy,std_yy,fmt='o', color=cmap(i*150/len(sorted(res_ig.keys())[1::])),alpha=0.5)\n",
    "    sigmas = map(lambda x: n_sigma*np.sqrt(x), pss);\n",
    "\n",
    "    y = gaussian_prediction(pss, sigmas, xs=np.linspace(0,1,5000));    # theoretical prediction of rho_alpha \n",
    "    plt.plot(pss,y,'--k', label=r'$\\sigma^2 =$'+str(n_sigma)+r'$\\mu$',color=cmap(i*150/len(sorted(res_ig.keys())[1::])))\n",
    "    preds_df[n_sigma] = pd.Series(y,pss)\n",
    "    plt.legend(loc=0, fontsize=25)\n",
    "    plt.plot(x_p,rhos,'-k',alpha=0.7)\n",
    "#     plt.xlim(0,20)"
   ]
  },
  {
   "cell_type": "code",
   "execution_count": null,
   "metadata": {},
   "outputs": [],
   "source": []
  },
  {
   "cell_type": "code",
   "execution_count": null,
   "metadata": {
    "ExecuteTime": {
     "end_time": "2020-11-18T13:18:23.313900Z",
     "start_time": "2020-11-18T13:18:19.273Z"
    }
   },
   "outputs": [],
   "source": [
    "n_sigmas = np.linspace(0,2,11)#range(1,5);\n",
    "sigmas = {}\n",
    "pss = np.linspace(k_min,k_max,100)\n",
    "fig = plt.figure(figsize=(20,20))\n",
    "preds_df = pd.DataFrame()\n",
    "for i, n_sigma in enumerate(sorted(res_ig.keys())):\n",
    "    plt.subplot(4,3,i+1)\n",
    "    print n_sigma\n",
    "    data = res_ig[n_sigma]\n",
    "    yy = map(lambda x: np.mean(data[x]), sorted(data.keys()));\n",
    "    std_yy = map(lambda x: np.std(data[x]), sorted(data.keys()));\n",
    "    plt.errorbar(pss, yy,std_yy,fmt='o',color=cmap(i*150/len(sorted(res_ig.keys())[1::])),alpha=0.5)\n",
    "    sigmas = map(lambda x: n_sigma*np.sqrt(x), pss);\n",
    "    y = gaussian_prediction(pss, sigmas,xs=np.linspace(0,1,5000));\n",
    "    plt.plot(pss,y,'--k', label=r'$\\sigma^2 =$'+str(n_sigma)+r'$\\mu$',color=cmap(i*150/len(sorted(res_ig.keys())[1::])))\n",
    "    preds_df[n_sigma] = pd.Series(y,pss)\n",
    "    plt.legend(loc=0, fontsize=25)\n",
    "\n",
    "    x_p = range(k_min,k_max,1);\n",
    "    plt.plot(x_p,rhos,'-k',alpha=0.7)\n",
    "    plt.xlim(0,20)\n",
    "    plt.yscale('log')\n",
    "    plt.xscale('log')\n",
    "##plt.savefig('../../submission/si/plots/heterogeneity_role.pdf',dpi=600)"
   ]
  },
  {
   "cell_type": "code",
   "execution_count": null,
   "metadata": {},
   "outputs": [],
   "source": []
  },
  {
   "cell_type": "code",
   "execution_count": null,
   "metadata": {
    "ExecuteTime": {
     "end_time": "2020-11-18T13:18:23.318576Z",
     "start_time": "2020-11-18T13:18:19.277Z"
    }
   },
   "outputs": [],
   "source": [
    "fig = plt.figure(figsize=(10,8))\n",
    "for i, n_sigma in enumerate(sorted(res_ig.keys())[1::]):\n",
    "    sigmas = map(lambda x: n_sigma*np.sqrt(x), pss);\n",
    "    data = res_ig[n_sigma]\n",
    "    yy = map(lambda x: np.mean(data[x]), sorted(data.keys()));\n",
    "    std_yy = map(lambda x: np.std(data[x]), sorted(data.keys()));\n",
    "    x_p = range(k_min,k_max,1);\n",
    "    plt.plot(x_p,rhos,'-k')\n",
    "    plt.errorbar(pss,yy,std_yy, ms=15,alpha=0.3,color=cmap(i*150/len(sorted(res_ig.keys())[1::])),fmt='.',lw=2,mew=1.5)#,label = n_sigma)\n",
    "    plt.plot(pss, preds_df[n_sigma],'-',color=cmap(10+i*150/len(sorted(res_ig.keys())[1::2])),\n",
    "             label=r'$\\sigma^2 =$'+str(n_sigma)+r'$\\mu$',lw=3)\n",
    "    plt.legend(loc=2)\n",
    "plt.xlim(5,20)\n",
    "plt.yscale('log')\n",
    "#plt.xscale('log')\n"
   ]
  },
  {
   "cell_type": "code",
   "execution_count": null,
   "metadata": {},
   "outputs": [],
   "source": []
  },
  {
   "cell_type": "code",
   "execution_count": null,
   "metadata": {
    "ExecuteTime": {
     "end_time": "2020-11-18T13:18:23.321481Z",
     "start_time": "2020-11-18T13:18:19.282Z"
    }
   },
   "outputs": [],
   "source": [
    "preds_df.plot()"
   ]
  },
  {
   "cell_type": "code",
   "execution_count": null,
   "metadata": {
    "ExecuteTime": {
     "end_time": "2020-11-18T13:18:23.323592Z",
     "start_time": "2020-11-18T13:18:19.284Z"
    }
   },
   "outputs": [],
   "source": [
    "res_ig_df = {}\n",
    "for k in sorted(res_ig.keys()):\n",
    "    res_ig_df[k] = {}\n",
    "    for p in sorted(res_ig[k].keys()):\n",
    "        res_ig_df[k][p] = np.nanmean(res_ig[k][p])\n",
    "res_ig_df = pd.DataFrame(res_ig_df)\n",
    "res_ig_df.head()"
   ]
  },
  {
   "cell_type": "code",
   "execution_count": null,
   "metadata": {
    "ExecuteTime": {
     "end_time": "2020-11-18T13:18:23.325337Z",
     "start_time": "2020-11-18T13:18:19.286Z"
    },
    "scrolled": false
   },
   "outputs": [],
   "source": [
    "fig = plt.figure(figsize=(12,6))\n",
    "ax = plt.subplot(121)\n",
    "for c in res_ig_df.columns:\n",
    "    plt.plot(res_ig_df[c],'o')\n",
    "preds_df.plot(ax=ax)\n",
    "ax = plt.subplot(122)\n",
    "for c in res_ig_df.T.columns[1::9]:\n",
    "    plt.plot(res_ig_df.T[c],'o-')\n",
    "#preds_df.T[pss[1::7]].plot(ax=ax)"
   ]
  },
  {
   "cell_type": "code",
   "execution_count": null,
   "metadata": {
    "ExecuteTime": {
     "end_time": "2020-11-18T13:18:23.326894Z",
     "start_time": "2020-11-18T13:18:19.288Z"
    }
   },
   "outputs": [],
   "source": [
    "# define the colormap\n",
    "cmap = plt.cm.hot\n",
    "# extract all colors from the .jet map\n",
    "cmaplist = [cmap(i) for i in range(cmap.N)]\n",
    "# create the new map\n",
    "cmap = cmap.from_list('Custom cmap', cmaplist, cmap.N)"
   ]
  },
  {
   "cell_type": "code",
   "execution_count": null,
   "metadata": {
    "ExecuteTime": {
     "end_time": "2020-11-18T13:18:23.328324Z",
     "start_time": "2020-11-18T13:18:19.289Z"
    }
   },
   "outputs": [],
   "source": [
    "n_sigmas_redux = sorted(res_ig.keys()[1::])\n",
    "preds = {}\n",
    "for i, n_sigma in enumerate(n_sigmas_redux):\n",
    "    sigmas = map(lambda x: n_sigma*np.sqrt(x), pss);\n",
    "    preds[n_sigma] = gaussian_prediction(pss, sigmas,xs=np.linspace(0,1,5000));"
   ]
  },
  {
   "cell_type": "code",
   "execution_count": null,
   "metadata": {
    "ExecuteTime": {
     "end_time": "2020-11-18T13:18:23.329750Z",
     "start_time": "2020-11-18T13:18:19.291Z"
    }
   },
   "outputs": [],
   "source": [
    "plt.style.use('seaborn-white')\n",
    "fs = 30\n",
    "sigmas = {}\n",
    "fig = plt.figure(figsize=(8,8))\n",
    "for i, n_sigma in enumerate(sorted(res_ig.keys())[1::2]):\n",
    "    sigmas = map(lambda x: n_sigma*np.sqrt(x), pss);\n",
    "    data = res_ig[n_sigma]\n",
    "    yy = map(lambda x: np.mean(data[x]), sorted(data.keys()));\n",
    "    std_yy = map(lambda x: np.std(data[x]), sorted(data.keys()));\n",
    "    plt.errorbar(pss,yy,std_yy, ms=30,alpha=0.8,color=cmap(i*250/len(sorted(res_ig.keys())[1::2])),fmt='.',lw=2,mew=1.5,mec='k')#,label = n_sigma)\n",
    "    plt.plot(pss, preds[n_sigma],'-',color=cmap(i*200/len(sorted(res_ig.keys())[1::2])),\n",
    "             label=r'$\\sigma^2 =$'+str(n_sigma)+r'$\\mu$',lw=3)\n",
    "    plt.legend(loc=0,fontsize=fs)\n",
    "#x_p = range(k_min,k_max,1);\n",
    "#plt.plot(x_p,rhos,'--k',lw=3)\n",
    "plt.xlim(0.5,20)\n",
    "plt.ylim(0.2,.8)\n",
    "#plt.xscale('log')\n",
    "#plt.yscale('log')\n",
    "plt.xlabel(r'$\\langle k \\rangle$', fontsize=fs)\n",
    "plt.ylabel(r'$\\rho_\\alpha$', fontsize=fs)\n",
    "plt.xticks(fontsize=fs)\n",
    "plt.yticks(fontsize=fs)\n",
    "plt.box('off')\n",
    "plt.grid('off')\n",
    "plt.tight_layout()\n",
    "#plt.savefig('../../notes/natphys-submission/plots/heterogeneity-effects.pdf')\n",
    "# #plt.savefig('../../notes/natphys-submission/plots/heterogeneity-effects.eps')\n",
    "# #plt.savefig('../../notes/natphys-submission/plots/heterogeneity-effects.svg')"
   ]
  },
  {
   "cell_type": "code",
   "execution_count": null,
   "metadata": {
    "ExecuteTime": {
     "end_time": "2020-11-18T13:18:23.332512Z",
     "start_time": "2020-11-18T13:18:19.293Z"
    }
   },
   "outputs": [],
   "source": [
    "plt.style.use('seaborn-white')\n",
    "fs = 30\n",
    "sigmas = {}\n",
    "fig = plt.figure(figsize=(8,4))\n",
    "for i, n_sigma in enumerate(sorted(res_ig.keys())[1::2]):\n",
    "    sigmas = map(lambda x: n_sigma*np.sqrt(x), pss);\n",
    "    data = res_ig[n_sigma]\n",
    "    yy = map(lambda x: np.mean(data[x]), sorted(data.keys()));\n",
    "    std_yy = map(lambda x: np.std(data[x]), sorted(data.keys()));\n",
    "    plt.errorbar(pss,yy,std_yy, ms=20,alpha=0.8,color=cmap(i*250/len(sorted(res_ig.keys())[1::2])),fmt='.',lw=2,mew=1.5,mec='k')#,label = n_sigma)\n",
    "    plt.plot(pss, preds[n_sigma],'-',color=cmap(i*250/len(sorted(res_ig.keys())[1::2])),\n",
    "             label=r'$\\sigma^2 =$'+str(n_sigma)+r'$\\mu$',lw=3)\n",
    "#plt.legend(loc=0)\n",
    "#x_p = range(k_min,k_max,1);\n",
    "#plt.plot(x_p,rhos,'--k',lw=3)\n",
    "#plt.xlim(2,20)\n",
    "#plt.ylim(0.2,1)\n",
    "plt.xscale('log')\n",
    "#plt.yscale('log')\n",
    "plt.xlabel(r'$\\mu$', fontsize=fs)\n",
    "plt.ylabel(r'$\\rho_\\alpha$', fontsize=fs)\n",
    "plt.xticks(fontsize=fs)\n",
    "plt.yticks(fontsize=fs)\n",
    "\n",
    "#plt.box('off')\n",
    "plt.grid('off')\n",
    "plt.tight_layout()\n",
    "#plt.savefig('../../notes/natphys-submission/plots/heterogeneity-effects_inset.pdf')\n",
    "##plt.savefig('../../notes/natphys-submission/plots/heterogeneity-effects_inset.eps')\n",
    "##plt.savefig('../../notes/natphys-submission/plots/heterogeneity-effects_inset.svg')"
   ]
  },
  {
   "cell_type": "markdown",
   "metadata": {},
   "source": [
    "## Heterogeneity simulations "
   ]
  },
  {
   "cell_type": "code",
   "execution_count": null,
   "metadata": {
    "ExecuteTime": {
     "end_time": "2020-11-18T13:18:23.334632Z",
     "start_time": "2020-11-18T13:18:19.295Z"
    }
   },
   "outputs": [],
   "source": [
    "num_iter = 10;\n",
    "N = 75;\n",
    "\n",
    "het_res_ig = {};\n",
    "het_av_k_ig = {}\n",
    "het_n_ig_dict = {}\n",
    "import time\n",
    "from datetime import datetime\n",
    "\n",
    "import igraph as igg\n",
    "\n",
    "from scipy.stats import norm\n",
    "het_sigma = np.linspace(0.2,1.4,10)\n",
    "\n",
    "for p in [15,20,25,30,35]:\n",
    "    print p;\n",
    "    het_res_ig[p] = {};\n",
    "    het_av_k_ig[p] = {};\n",
    "    het_n_ig_dict[p] = {};\n",
    "\n",
    "    for l,sig in enumerate(het_sigma):\n",
    "        print l, '/', len(het_sigma), ':', sig, 'started:', str(datetime.now())\n",
    "        het_res_ig[p][sig] = []\n",
    "        het_av_k_ig[p][sig] = [];\n",
    "        het_n_ig_dict[p][sig] = []\n",
    "        for it in range(num_iter):\n",
    "            deg = map(lambda x: np.max([0, int(x)]), norm.rvs(p,sig*np.sqrt(p),N));\n",
    "            if not np.sum(deg)%2==0:\n",
    "                deg[0]+=1;\n",
    "            g = nx.configuration_model(deg)\n",
    "            het_av_k_ig[p][sig].append(np.mean(g.degree().values()));\n",
    "            n_g = g.number_of_nodes()\n",
    "            het_n_ig_dict[p][sig].append(n_g);\n",
    "            nx.write_gml(g,'test.gml');\n",
    "            g_igraph = igg.load('test.gml')\n",
    "            het_res_ig[p][sig].append( g_igraph.alpha() / float(n_g) )  \n"
   ]
  },
  {
   "cell_type": "code",
   "execution_count": null,
   "metadata": {
    "ExecuteTime": {
     "end_time": "2020-11-18T13:18:23.336673Z",
     "start_time": "2020-11-18T13:18:19.297Z"
    }
   },
   "outputs": [],
   "source": [
    "preds_het = {}\n",
    "for sig in het_sigma:\n",
    "    preds_het[sig] = []\n",
    "    sigmas = map(lambda x: np.sqrt(x)*sig, sorted(het_res_ig.keys()));\n",
    "    preds_het[sig] = pd.Series(gaussian_prediction(sorted(het_res_ig.keys()), sigmas, xs=np.linspace(0,1,10000)), index=sorted(het_res_ig.keys()));"
   ]
  },
  {
   "cell_type": "code",
   "execution_count": null,
   "metadata": {
    "ExecuteTime": {
     "end_time": "2020-11-18T13:18:23.339063Z",
     "start_time": "2020-11-18T13:18:19.299Z"
    }
   },
   "outputs": [],
   "source": [
    "for p in sorted(het_res_ig.keys()):\n",
    "    plot_results(het_sigma, het_res_ig[p],label = p)\n",
    "\n",
    "preds_het_df = pd.DataFrame(preds_het).T\n",
    "preds_het_df.plot()\n",
    "#plt.plot(het_sigma,preds_het,label=p)\n",
    "#plt.legend(loc=0)\n",
    "#plt.ylim(0,0.7)\n",
    "#plt.tight_layout()"
   ]
  },
  {
   "cell_type": "code",
   "execution_count": null,
   "metadata": {},
   "outputs": [],
   "source": [
    "\n"
   ]
  },
  {
   "cell_type": "markdown",
   "metadata": {},
   "source": [
    "# Simulation-driven comparison with IG "
   ]
  },
  {
   "cell_type": "code",
   "execution_count": null,
   "metadata": {
    "ExecuteTime": {
     "end_time": "2020-11-18T13:18:23.341312Z",
     "start_time": "2020-11-18T13:18:19.304Z"
    }
   },
   "outputs": [],
   "source": [
    "num_iter = 10;\n",
    "nN = 20;\n",
    "\n",
    "new_res_ig = {};\n",
    "new_av_k_ig = {}\n",
    "new_n_ig_dict = {}\n",
    "new_gauss_pred = {}\n",
    "\n",
    "import time\n",
    "from datetime import datetime\n",
    "\n",
    "import igraph as igg\n",
    "new_k_min = 1\n",
    "new_k_max = 15\n",
    "new_pmin = new_k_min/float(nN);\n",
    "new_pmax = new_k_max/float(nN);\n",
    "precision = 30\n",
    "new_ps = np.linspace(new_pmin,new_pmax,precision);\n",
    "\n",
    "from scipy.stats import norm\n",
    "#rvs(loc=0, scale=1, size=1, random_state=None)\n",
    "\n",
    "for l,p in enumerate(new_ps):\n",
    "    print l, '/', precision, ':', p, 'started:', str(datetime.now())\n",
    "    new_gauss_pred[p] = []\n",
    "    new_res_ig[p] = []\n",
    "    new_av_k_ig[p] = [];\n",
    "    new_n_ig_dict[p] = []\n",
    "    for it in range(num_iter):\n",
    "        g = igt.create_ER_bipartite_graph(nN,p)\n",
    "        lg = igt.line_graph(g)\n",
    "        ig = igt.interference_graph(lg)\n",
    "        new_av_k_ig[p].append(np.mean(ig.degree().values()));\n",
    "        new_n_ig = ig.number_of_nodes()\n",
    "        new_n_ig_dict[p].append(new_n_ig);\n",
    "        nx.write_gml(ig,'test.gml');\n",
    "        g_igraph = igg.load('test.gml')\n",
    "        new_res_ig[p].append( g_igraph.alpha() )    \n",
    "        mu = np.mean(g.degree().values());\n",
    "        sigma =  np.std(g.degree().values());\n",
    "        p_stars_gauss = minimize_gauss_pstar(xs,mu,sigma**2, 2);\n",
    "        new_gauss_pred[p].append(rho_gauss(p_stars_gauss, mu , sigma**2,2));"
   ]
  },
  {
   "cell_type": "code",
   "execution_count": null,
   "metadata": {
    "ExecuteTime": {
     "end_time": "2020-11-18T13:18:23.342405Z",
     "start_time": "2020-11-18T13:18:19.306Z"
    }
   },
   "outputs": [],
   "source": [
    "fs = 30\n",
    "fig = plt.figure(figsize=(8,8))\n",
    "data = new_gauss_pred\n",
    "yy = np.array(map(lambda x: np.mean(data[x]), sorted(data.keys())));\n",
    "std_yy = np.array(map(lambda x: np.std(data[x]), sorted(data.keys())));\n",
    "plt.fill_between(new_ps,yy+std_yy,yy-std_yy, alpha=0.3,color=cmap(150), label='Pred. bounds')\n",
    "\n",
    "data = new_res_ig\n",
    "yy = map(lambda x: np.mean(data[x])/nN, sorted(data.keys()));\n",
    "std_yy = map(lambda x: np.std(data[x])/nN, sorted(data.keys()));\n",
    "plt.errorbar(new_ps,yy,std_yy, ms=20,alpha=0.5,color=cmap(100),fmt='.',lw=2,mew=1.5,mec='k',label = r'Sim $\\rho_\\alpha$')\n",
    "plt.ylabel(r'$\\rho_\\alpha$', fontsize=fs)\n",
    "plt.xlabel(r'$\\langle k \\rangle/N$', fontsize=fs)\n",
    "plt.box('off')\n",
    "plt.xticks(fontsize=20)\n",
    "plt.yticks(fontsize=20)\n",
    "plt.legend(loc=0, fontsize=30)\n",
    "plt.tight_layout()\n",
    "##plt.savefig('../../notes/natphys-submission/plots/IG_sim_vs_solution.eps')\n",
    "#plt.savefig('../../notes/natphys-submission/plots/IG_sim_vs_solution.pdf')\n",
    "##plt.savefig('../../notes/natphys-submission/plots/IG_sim_vs_solution.png')\n",
    "##plt.savefig('../../notes/natphys-submission/plots/IG_sim_vs_solution.svg')"
   ]
  },
  {
   "cell_type": "code",
   "execution_count": null,
   "metadata": {
    "ExecuteTime": {
     "end_time": "2020-11-18T13:18:23.343550Z",
     "start_time": "2020-11-18T13:18:19.308Z"
    }
   },
   "outputs": [],
   "source": [
    "fs = 15\n",
    "fig = plt.figure(figsize=(5,4))\n",
    "data = new_gauss_pred\n",
    "yy = np.array(map(lambda x: np.mean(data[x]), sorted(data.keys())));\n",
    "std_yy = np.array(map(lambda x: np.std(data[x]), sorted(data.keys())));\n",
    "plt.fill_between(new_ps,yy+std_yy,yy-std_yy, alpha=0.3,color=cmap(150))\n",
    "\n",
    "data = new_res_ig\n",
    "yy = map(lambda x: np.mean(data[x])/nN, sorted(data.keys()));\n",
    "std_yy = map(lambda x: np.std(data[x])/nN, sorted(data.keys()));\n",
    "plt.errorbar(new_ps,yy,std_yy, ms=15,alpha=0.4,color=cmap(100),fmt='.',lw=2,mew=1.5)#,label = n_sigma)\n",
    "plt.ylabel(r'$\\rho_\\alpha$', fontsize=fs)\n",
    "plt.xlabel(r'$z/N$', fontsize=fs)\n",
    "plt.box('off')\n",
    "plt.legend(loc=0)\n",
    "plt.tight_layout()\n"
   ]
  },
  {
   "cell_type": "markdown",
   "metadata": {},
   "source": [
    "## Probability of performing $\\beta$ tasks from a task set of dimension $\\gamma$\n",
    "\n",
    "$p(\\beta ; \\gamma) = \\binom{\\gamma}{\\beta} \\frac{M_{out}!}{(M_{out} - M_{in})!} M^{-M_{in}} M^{-(\\gamma-\\beta)} \n",
    "\\frac{M_{in}! z^{\\gamma-\\beta}}{(M_{in} - (\\gamma-\\beta)!}$"
   ]
  },
  {
   "cell_type": "code",
   "execution_count": null,
   "metadata": {
    "ExecuteTime": {
     "end_time": "2020-11-18T13:18:23.344502Z",
     "start_time": "2020-11-18T13:18:19.310Z"
    }
   },
   "outputs": [],
   "source": [
    "from scipy.special import binom\n",
    "def log_prob_beta_gamma(beta, gamma, M, zeta):\n",
    "    s = 0; \n",
    "    Min = zeta*beta;\n",
    "    Mout = M - zeta*beta;\n",
    "    s += np.log(binom(gamma,beta))\n",
    "    s += np.sum(map(np.log, range(1,Mout +1 ))) #the plus one is for the range function only, not in the math\n",
    "    s -= np.sum(map(np.log, range(1,Mout - Min +1 )))\n",
    "    s -= Min * np.log(M);\n",
    "    s -= (gamma - beta) * np.log(M/float(zeta));\n",
    "    s += np.sum(map(np.log, range(1, Min +1)))\n",
    "    s -= np.sum(map(np.log, range(1, Min -(gamma-beta) +1)))\n",
    "    return s;\n",
    "    \n",
    "def average_beta_gamma(gamma, M, zeta):\n",
    "    probs = map(lambda x: np.exp(log_prob_beta_gamma(x,gamma, M, zeta)), range(1,gamma+1));\n",
    "    Z_fun = np.sum(probs);\n",
    "    s = 0;\n",
    "    for i, beta in enumerate(range(1,gamma+1)):\n",
    "        s += beta * probs[i] / Z_fun;\n",
    "    return s;"
   ]
  },
  {
   "cell_type": "code",
   "execution_count": null,
   "metadata": {
    "ExecuteTime": {
     "end_time": "2020-11-18T13:18:23.345677Z",
     "start_time": "2020-11-18T13:18:19.312Z"
    }
   },
   "outputs": [],
   "source": [
    "import time\n",
    "\n",
    "fig = plt.figure(figsize=(12,5))\n",
    "ns = range(100,400,30);\n",
    "rhos = np.linspace(0.1,0.9,15) #[0.1,0.2, 0.4, 0.7]\n",
    "\n",
    "renorm_max_performance  = pd.DataFrame(columns=rhos,index=ns)\n",
    "max_performance  = pd.DataFrame(columns=rhos,index=ns)\n",
    "\n",
    "now = time.time();\n",
    "for rho in rhos:\n",
    "    print rho, time.time() - now;\n",
    "    Ms = map(int, np.array(ns)*(np.array(ns)-1)*rho/2);\n",
    "    ks = 2*np.array(Ms)/np.array(ns)\n",
    "    alphas = map(int, np.array(gaussian_prediction(ks, map(np.std,ks), xs=np.linspace(0,1,50000))) * ns); \n",
    "    avs = map(lambda x: average_beta_gamma(alphas[x],Ms[x],ks[x]), range(len(ns)));\n",
    "    plt.subplot(121)\n",
    "    plt.plot(ns, avs, label=str(rho))\n",
    "    plt.subplot(122)\n",
    "    plt.plot(ns, avs / np.array(ns), label=str(rho))\n",
    "    renorm_max_performance[rho] = pd.Series(avs / np.array(ns), ns);\n",
    "    max_performance[rho] = pd.Series(avs, ns);\n",
    "\n",
    "plt.subplot(121)\n",
    "plt.legend(loc=0)\n",
    "plt.subplot(122)\n",
    "plt.legend(loc=0)\n",
    "plt.tight_layout()"
   ]
  },
  {
   "cell_type": "code",
   "execution_count": null,
   "metadata": {
    "ExecuteTime": {
     "end_time": "2020-11-18T13:18:23.346806Z",
     "start_time": "2020-11-18T13:18:19.314Z"
    }
   },
   "outputs": [],
   "source": [
    "import seaborn as sns\n",
    "fig = plt.figure(figsize=(12,6))\n",
    "ax = plt.subplot(122)\n",
    "sns.heatmap(renorm_max_performance, ax=ax);\n",
    "plt.title('Normalized performance')\n",
    "ax = plt.subplot(121)\n",
    "sns.heatmap(max_performance, ax=ax);\n",
    "plt.title('Raw performance')\n",
    "plt.tight_layout()\n"
   ]
  },
  {
   "cell_type": "code",
   "execution_count": null,
   "metadata": {
    "ExecuteTime": {
     "end_time": "2020-11-18T13:18:23.347995Z",
     "start_time": "2020-11-18T13:18:19.316Z"
    }
   },
   "outputs": [],
   "source": [
    "probs = map(lambda x: log_prob_beta_gamma(x,alphas[5],Ms[5],ks[5]), range(1,alphas[5]));\n",
    "plt.plot(range(1,alphas[5]), probs,'.')"
   ]
  },
  {
   "cell_type": "code",
   "execution_count": null,
   "metadata": {
    "ExecuteTime": {
     "end_time": "2020-11-18T13:18:23.349104Z",
     "start_time": "2020-11-18T13:18:19.317Z"
    }
   },
   "outputs": [],
   "source": [
    "no_nodes = 20\n",
    "prob_link = 0.4\n",
    "g = nx.erdos_renyi_graph(no_nodes,prob_link)\n",
    "z = int(np.mean(nx.degree(g).values()))\n",
    "g = nx.random_regular_graph(z,no_nodes)\n",
    "M = 2*g.number_of_edges()\n",
    "\n",
    "alpha = nx.maximal_independent_set(g)\n",
    "gamma_nodes = range(len(alpha));\n",
    "print len(alpha), z, int(z)\n",
    "\n",
    "print average_beta_gamma(len(alpha), M, int(z))"
   ]
  },
  {
   "cell_type": "code",
   "execution_count": null,
   "metadata": {
    "ExecuteTime": {
     "end_time": "2020-11-18T13:18:23.350398Z",
     "start_time": "2020-11-18T13:18:19.319Z"
    }
   },
   "outputs": [],
   "source": [
    "pb = []\n",
    "for beta in range(0,g.number_of_nodes()):\n",
    "    pb.append(np.exp(log_prob_beta_gamma(beta, len(alpha), M, z)))\n",
    "pb = np.array(pb)/float(np.sum(pb));\n",
    "plt.plot(range(0,g.number_of_nodes()),pb)\n",
    "print np.sum(np.array(range(0,g.number_of_nodes()))*pb)"
   ]
  },
  {
   "cell_type": "code",
   "execution_count": null,
   "metadata": {
    "ExecuteTime": {
     "end_time": "2020-11-18T13:18:23.352026Z",
     "start_time": "2020-11-18T13:18:19.321Z"
    }
   },
   "outputs": [],
   "source": [
    "g = nx.random_regular_graph(10,100)\n",
    "print np.mean(nx.clustering(g).values())\n",
    "g = nx.random_regular_graph(20,100)\n",
    "print np.mean(nx.clustering(g).values())\n",
    "g = nx.random_regular_graph(30,100)\n",
    "print np.mean(nx.clustering(g).values())    "
   ]
  }
 ],
 "metadata": {
  "kernelspec": {
   "display_name": "Python 2",
   "language": "python",
   "name": "python2"
  },
  "language_info": {
   "codemirror_mode": {
    "name": "ipython",
    "version": 3
   },
   "file_extension": ".py",
   "mimetype": "text/x-python",
   "name": "python",
   "nbconvert_exporter": "python",
   "pygments_lexer": "ipython3",
   "version": "3.8.6"
  },
  "nav_menu": {},
  "toc": {
   "base_numbering": 1,
   "nav_menu": {},
   "number_sections": true,
   "sideBar": false,
   "skip_h1_title": false,
   "title_cell": "Table of Contents",
   "title_sidebar": "Contents",
   "toc_cell": false,
   "toc_position": {},
   "toc_section_display": "block",
   "toc_window_display": false
  }
 },
 "nbformat": 4,
 "nbformat_minor": 1
}
