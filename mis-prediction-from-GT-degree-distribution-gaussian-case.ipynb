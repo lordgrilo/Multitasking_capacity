{
 "cells": [
  {
   "cell_type": "code",
   "execution_count": 1,
   "metadata": {
    "ExecuteTime": {
     "end_time": "2020-11-18T12:35:40.914390Z",
     "start_time": "2020-11-18T12:35:39.870317Z"
    }
   },
   "outputs": [],
   "source": [
    "%matplotlib inline\n",
    "import pandas as pd\n",
    "import IGtools as igt\n",
    "import networkx as nx\n",
    "import os, sys \n",
    "import matplotlib.pyplot as plt\n",
    "import pandas as pd\n",
    "import numpy as np\n",
    "from tqdm import tqdm_notebook"
   ]
  },
  {
   "cell_type": "code",
   "execution_count": 2,
   "metadata": {
    "ExecuteTime": {
     "end_time": "2020-11-18T12:35:41.629800Z",
     "start_time": "2020-11-18T12:35:40.919260Z"
    }
   },
   "outputs": [],
   "source": [
    "import igraph as ig"
   ]
  },
  {
   "cell_type": "code",
   "execution_count": 3,
   "metadata": {
    "ExecuteTime": {
     "end_time": "2020-11-18T12:35:42.193020Z",
     "start_time": "2020-11-18T12:35:41.631965Z"
    },
    "scrolled": false
   },
   "outputs": [],
   "source": [
    "from scipy.optimize import fsolve, fmin, root\n",
    "import sympy as sy\n",
    "from mis_utils import *"
   ]
  },
  {
   "cell_type": "markdown",
   "metadata": {},
   "source": [
    "# Simulation-driven comparison with IG "
   ]
  },
  {
   "cell_type": "code",
   "execution_count": 5,
   "metadata": {
    "ExecuteTime": {
     "end_time": "2020-11-18T12:35:42.201891Z",
     "start_time": "2020-11-18T12:35:42.198530Z"
    }
   },
   "outputs": [],
   "source": [
    "num_iter = 10;\n",
    "nN = 20;\n",
    "xs = np.linspace(0, 1, 2000); #lazy xs\n",
    "\n",
    "new_res_ig = {};\n",
    "new_av_k_ig = {}\n",
    "new_n_ig_dict = {}\n",
    "new_gauss_pred = {}\n",
    "new_gauss_pred_boost = {}\n",
    "dens = {}"
   ]
  },
  {
   "cell_type": "code",
   "execution_count": 6,
   "metadata": {
    "ExecuteTime": {
     "end_time": "2020-11-18T12:37:59.721542Z",
     "start_time": "2020-11-18T12:35:42.204951Z"
    },
    "scrolled": false
   },
   "outputs": [
    {
     "name": "stderr",
     "output_type": "stream",
     "text": [
      "<ipython-input-6-9300bcde9029>:14: TqdmDeprecationWarning: This function will be removed in tqdm==5.0.0\n",
      "Please use `tqdm.notebook.tqdm` instead of `tqdm.tqdm_notebook`\n",
      "  for l,p in tqdm_notebook(enumerate(new_ps)):\n"
     ]
    },
    {
     "data": {
      "application/vnd.jupyter.widget-view+json": {
       "model_id": "61340ec3370a4fd4bf19ee500ecde061",
       "version_major": 2,
       "version_minor": 0
      },
      "text/plain": [
       "HBox(children=(HTML(value=''), FloatProgress(value=1.0, bar_style='info', layout=Layout(width='20px'), max=1.0…"
      ]
     },
     "metadata": {},
     "output_type": "display_data"
    },
    {
     "name": "stderr",
     "output_type": "stream",
     "text": [
      "/Users/lordgrilo/Dropbox (ISI Foundation)/development/neural_networks/rebuttal_code/mis_utils.py:7: RuntimeWarning: divide by zero encountered in log\n",
      "  return np.abs(x - np.power(1 - ((sigma*sigma*np.log(x)+d)/float(d*x)) * np.exp((d*np.log(x) + 0.5*sigma*sigma*np.power(np.log(x),2))), c-1));\n",
      "/Users/lordgrilo/Dropbox (ISI Foundation)/development/neural_networks/rebuttal_code/mis_utils.py:7: RuntimeWarning: invalid value encountered in double_scalars\n",
      "  return np.abs(x - np.power(1 - ((sigma*sigma*np.log(x)+d)/float(d*x)) * np.exp((d*np.log(x) + 0.5*sigma*sigma*np.power(np.log(x),2))), c-1));\n"
     ]
    },
    {
     "name": "stdout",
     "output_type": "stream",
     "text": [
      "0 / 10 : 10 started: 2020-11-18 13:35:42.484435\n"
     ]
    },
    {
     "name": "stderr",
     "output_type": "stream",
     "text": [
      "/Users/lordgrilo/Dropbox (ISI Foundation)/development/neural_networks/rebuttal_code/mis_utils.py:7: RuntimeWarning: overflow encountered in double_scalars\n",
      "  return np.abs(x - np.power(1 - ((sigma*sigma*np.log(x)+d)/float(d*x)) * np.exp((d*np.log(x) + 0.5*sigma*sigma*np.power(np.log(x),2))), c-1));\n",
      "/Users/lordgrilo/Dropbox (ISI Foundation)/development/neural_networks/rebuttal_code/mis_utils.py:7: RuntimeWarning: overflow encountered in exp\n",
      "  return np.abs(x - np.power(1 - ((sigma*sigma*np.log(x)+d)/float(d*x)) * np.exp((d*np.log(x) + 0.5*sigma*sigma*np.power(np.log(x),2))), c-1));\n"
     ]
    },
    {
     "name": "stdout",
     "output_type": "stream",
     "text": [
      "1 / 10 : 10 started: 2020-11-18 13:35:43.457503\n",
      "2 / 10 : 10 started: 2020-11-18 13:35:46.355327\n",
      "3 / 10 : 10 started: 2020-11-18 13:35:52.025401\n",
      "4 / 10 : 10 started: 2020-11-18 13:36:02.481197\n",
      "5 / 10 : 10 started: 2020-11-18 13:36:17.490142\n",
      "6 / 10 : 10 started: 2020-11-18 13:36:34.765165\n",
      "7 / 10 : 10 started: 2020-11-18 13:36:55.141260\n",
      "8 / 10 : 10 started: 2020-11-18 13:37:18.239845\n",
      "9 / 10 : 10 started: 2020-11-18 13:37:39.482964\n",
      "\n"
     ]
    }
   ],
   "source": [
    "import time\n",
    "from datetime import datetime\n",
    "\n",
    "import igraph as igg\n",
    "new_k_min = 2\n",
    "new_k_max = 15\n",
    "new_pmin = new_k_min/float(nN);\n",
    "new_pmax = new_k_max/float(nN);\n",
    "precision = 10\n",
    "new_ps = np.linspace(new_pmin,new_pmax,precision);\n",
    "\n",
    "from scipy.stats import norm\n",
    "\n",
    "for l,p in tqdm_notebook(enumerate(new_ps)):\n",
    "    print(l, '/', precision, ':', len(new_ps), 'started:', str(datetime.now()))\n",
    "    new_gauss_pred[p] = []\n",
    "    new_res_ig[p] = []\n",
    "    new_av_k_ig[p] = [];\n",
    "    new_n_ig_dict[p] = []\n",
    "    dens[p] = []\n",
    "    new_gauss_pred_boost[p] = []\n",
    "    for it in range(num_iter):\n",
    "        g = igt.create_ER_bipartite_graph(nN,p) # create ER bipartite graph\n",
    "        lg = igt.line_graph(g) # create line graph\n",
    "        ig = igt.interference_graph(lg) # create interference graph\n",
    "        ig_degs = list(dict(ig.degree()).values())\n",
    "        new_av_k_ig[p].append(np.mean(ig_degs)); # computed z\n",
    "        new_n_ig = ig.number_of_nodes() # compute number of tasks M\n",
    "        new_n_ig_dict[p].append(new_n_ig); # compute number of tasks M\n",
    "        nx.write_gml(ig,'test.gml'); #horrible trick\n",
    "        g_igraph = igg.load('test.gml') \n",
    "        new_res_ig[p].append( g_igraph.alpha() )  # empirical/real MIS size\n",
    "        \n",
    "        # direct prediction\n",
    "        mu = new_av_k_ig[p][-1]\n",
    "        sigma = np.std(ig_degs)\n",
    "        p_stars_gauss = minimize_gauss_pstar(xs, mu, sigma, 2); #prediction based on gaussian IG degree distribution\n",
    "        new_gauss_pred[p].append(rho_gauss(p_stars_gauss, mu , sigma, 2)); #prediction based on gaussian IG degree distribution\n",
    "        dens[p].append(nx.density(ig));\n",
    "        \n",
    "        #indirect prediction on predicted degrees\n",
    "        g_degs = dict(nx.degree(g));\n",
    "        tt = [g.degree()[i] for i in range(nN)]\n",
    "        ss = [g.degree()[i] for i in range(nN,2*nN)]\n",
    "\n",
    "        boosted_degree_corrected = []\n",
    "        for edge in g.edges():\n",
    "            boosted_degree_corrected.append(igt.wedge_closure_boosted_degree_corrected(g_degs[edge[0]], g_degs[edge[1]], np.array(ss), np.array(tt)));\n",
    "        \n",
    "        mu = np.mean(boosted_degree_corrected)\n",
    "        sigma = np.std(boosted_degree_corrected)\n",
    "        p_stars_gauss = minimize_gauss_pstar(xs, mu, sigma, 2); #prediction based on gaussian IG degree distribution\n",
    "        new_gauss_pred_boost[p].append(rho_gauss(p_stars_gauss, mu , sigma, 2)); #prediction based on gaussian IG degree distribution"
   ]
  },
  {
   "cell_type": "code",
   "execution_count": 7,
   "metadata": {
    "ExecuteTime": {
     "end_time": "2020-11-18T12:37:59.738613Z",
     "start_time": "2020-11-18T12:37:59.724528Z"
    }
   },
   "outputs": [],
   "source": [
    "cmap = plt.cm.hot\n",
    "cmaplist = [cmap(i) for i in range(cmap.N)]\n",
    "cmap = cmap.from_list('Custom cmap', cmaplist, cmap.N)"
   ]
  },
  {
   "cell_type": "code",
   "execution_count": 8,
   "metadata": {
    "ExecuteTime": {
     "end_time": "2020-11-18T12:37:59.745188Z",
     "start_time": "2020-11-18T12:37:59.741137Z"
    }
   },
   "outputs": [],
   "source": [
    "av_dens = [np.mean(dens[x]) for x in new_ps]"
   ]
  },
  {
   "cell_type": "code",
   "execution_count": 10,
   "metadata": {
    "ExecuteTime": {
     "end_time": "2020-11-18T12:54:44.128208Z",
     "start_time": "2020-11-18T12:54:43.679444Z"
    }
   },
   "outputs": [
    {
     "name": "stderr",
     "output_type": "stream",
     "text": [
      "No handles with labels found to put in legend.\n"
     ]
    },
    {
     "data": {
      "text/plain": [
       "(0.0, 0.7)"
      ]
     },
     "execution_count": 10,
     "metadata": {},
     "output_type": "execute_result"
    },
    {
     "data": {
      "image/png": "[encoded data removed]",
      "text/plain": [
       "<Figure size 360x288 with 1 Axes>"
      ]
     },
     "metadata": {
      "needs_background": "light"
     },
     "output_type": "display_data"
    }
   ],
   "source": [
    "fs = 25\n",
    "fig = plt.figure(figsize=(5,4))\n",
    "ax = plt.subplot(111)\n",
    "\n",
    "data = new_gauss_pred\n",
    "yy = np.array(list(map(lambda x: np.mean(data[x]), sorted(data.keys()))));\n",
    "std_yy = np.array(list(map(lambda x: np.std(data[x]), sorted(data.keys()))));\n",
    "plt.fill_between(new_ps,yy+std_yy,yy-std_yy, alpha=0.3,color=cmap(150))\n",
    "\n",
    "data = new_gauss_pred_boost\n",
    "yy = np.array(list(map(lambda x: np.mean(data[x]), sorted(data.keys()))));\n",
    "std_yy = np.array(list(map(lambda x: np.std(data[x]), sorted(data.keys()))));\n",
    "plt.fill_between(new_ps,yy+std_yy,yy-std_yy, alpha=0.3,color=cmap(30))\n",
    "\n",
    "\n",
    "data = new_res_ig\n",
    "yy = list(map(lambda x: np.mean(np.array(data[x])/np.array(list(map(float,new_n_ig_dict[x])))), sorted(data.keys())));\n",
    "std_yy = list(map(lambda x: np.std(np.array(data[x])/np.array(list(map(float,new_n_ig_dict[x])))), sorted(data.keys())));\n",
    "plt.errorbar(new_ps,yy, std_yy, ms=0,alpha=0.4, color=cmap(av_dens),fmt='.',lw=2,mew=1.5)#,label = n_sigma)\n",
    "plt.scatter(new_ps, yy, c=cmap(av_dens), vmin=0, vmax=1)\n",
    "plt.ylabel(r'$\\rho_\\alpha$', fontsize=fs)\n",
    "plt.xlabel(r'$\\langle k \\rangle/N$', fontsize=fs)\n",
    "plt.box('off')\n",
    "plt.yticks(fontsize=15)\n",
    "plt.xticks(fontsize=15)\n",
    "plt.legend(loc=0)\n",
    "plt.tight_layout()\n",
    "plt.ylim(0,0.7)"
   ]
  },
  {
   "cell_type": "code",
   "execution_count": 23,
   "metadata": {
    "ExecuteTime": {
     "end_time": "2020-11-18T13:02:33.724130Z",
     "start_time": "2020-11-18T13:02:33.720813Z"
    }
   },
   "outputs": [],
   "source": [
    "import pickle as pk\n",
    "pk.dump(data, open('./figure_data/Fig_3c_new_gaussian_alpha_prediction.pck', 'wb'))"
   ]
  }
 ],
 "metadata": {
  "kernelspec": {
   "display_name": "pyenv3.8",
   "language": "python",
   "name": "pyenv3.8"
  },
  "language_info": {
   "codemirror_mode": {
    "name": "ipython",
    "version": 3
   },
   "file_extension": ".py",
   "mimetype": "text/x-python",
   "name": "python",
   "nbconvert_exporter": "python",
   "pygments_lexer": "ipython3",
   "version": "3.8.6"
  },
  "nav_menu": {},
  "toc": {
   "base_numbering": 1,
   "nav_menu": {},
   "number_sections": true,
   "sideBar": false,
   "skip_h1_title": false,
   "title_cell": "Table of Contents",
   "title_sidebar": "Contents",
   "toc_cell": false,
   "toc_position": {},
   "toc_section_display": "block",
   "toc_window_display": false
  }
 },
 "nbformat": 4,
 "nbformat_minor": 1
}
