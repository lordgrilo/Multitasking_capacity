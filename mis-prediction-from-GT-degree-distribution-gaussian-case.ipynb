{
 "cells": [
  {
   "cell_type": "code",
   "execution_count": 10,
   "metadata": {
    "ExecuteTime": {
     "end_time": "2020-11-23T11:21:03.602839Z",
     "start_time": "2020-11-23T11:21:03.598674Z"
    }
   },
   "outputs": [],
   "source": [
    "%matplotlib inline\n",
    "import pandas as pd\n",
    "import IGtools as igt\n",
    "import networkx as nx\n",
    "import os, sys \n",
    "import matplotlib.pyplot as plt\n",
    "import pandas as pd\n",
    "import numpy as np\n",
    "from tqdm.notebook import tqdm"
   ]
  },
  {
   "cell_type": "code",
   "execution_count": 3,
   "metadata": {
    "ExecuteTime": {
     "end_time": "2020-11-23T11:15:58.843989Z",
     "start_time": "2020-11-23T11:15:58.808782Z"
    }
   },
   "outputs": [],
   "source": [
    "import igraph as ig"
   ]
  },
  {
   "cell_type": "code",
   "execution_count": 4,
   "metadata": {
    "ExecuteTime": {
     "end_time": "2020-11-23T11:15:59.399525Z",
     "start_time": "2020-11-23T11:15:58.847435Z"
    },
    "scrolled": false
   },
   "outputs": [],
   "source": [
    "from scipy.optimize import fsolve, fmin, root\n",
    "import sympy as sy\n",
    "from mis_utils import *"
   ]
  },
  {
   "cell_type": "markdown",
   "metadata": {},
   "source": [
    "# Simulation-driven comparison with IG "
   ]
  },
  {
   "cell_type": "code",
   "execution_count": 5,
   "metadata": {
    "ExecuteTime": {
     "end_time": "2020-11-23T11:15:59.404732Z",
     "start_time": "2020-11-23T11:15:59.401650Z"
    }
   },
   "outputs": [],
   "source": [
    "num_iter = 10;\n",
    "nN = 20;\n",
    "xs = np.linspace(0, 1, 2000); #lazy xs\n",
    "\n",
    "new_res_ig = {};\n",
    "new_av_k_ig = {}\n",
    "new_n_ig_dict = {}\n",
    "new_gauss_pred = {}\n",
    "new_gauss_pred_boost = {}\n",
    "dens = {}"
   ]
  },
  {
   "cell_type": "code",
   "execution_count": 9,
   "metadata": {
    "ExecuteTime": {
     "end_time": "2020-11-23T11:21:03.596693Z",
     "start_time": "2020-11-23T11:18:59.979938Z"
    },
    "scrolled": false
   },
   "outputs": [
    {
     "name": "stderr",
     "output_type": "stream",
     "text": [
      "<ipython-input-9-5db6b478024c>:14: TqdmDeprecationWarning: This function will be removed in tqdm==5.0.0\n",
      "Please use `tqdm.notebook.tqdm` instead of `tqdm.tqdm_notebook`\n",
      "  for l,p in tqdm_notebook(enumerate(new_ps)):\n"
     ]
    },
    {
     "data": {
      "application/vnd.jupyter.widget-view+json": {
       "model_id": "84580079331c4b9998bf91e45e4ff83f",
       "version_major": 2,
       "version_minor": 0
      },
      "text/plain": [
       "HBox(children=(HTML(value=''), FloatProgress(value=1.0, bar_style='info', layout=Layout(width='20px'), max=1.0…"
      ]
     },
     "metadata": {},
     "output_type": "display_data"
    },
    {
     "name": "stdout",
     "output_type": "stream",
     "text": [
      "0 / 10 : 10 started: 2020-11-23 12:19:00.019308\n",
      "1 / 10 : 10 started: 2020-11-23 12:19:00.799040\n",
      "2 / 10 : 10 started: 2020-11-23 12:19:02.658298\n",
      "3 / 10 : 10 started: 2020-11-23 12:19:08.105322\n",
      "4 / 10 : 10 started: 2020-11-23 12:19:18.866870\n",
      "5 / 10 : 10 started: 2020-11-23 12:19:32.622548\n",
      "6 / 10 : 10 started: 2020-11-23 12:19:48.086649\n",
      "7 / 10 : 10 started: 2020-11-23 12:20:06.604138\n",
      "8 / 10 : 10 started: 2020-11-23 12:20:25.411904\n",
      "9 / 10 : 10 started: 2020-11-23 12:20:44.894754\n",
      "\n"
     ]
    }
   ],
   "source": [
    "import time\n",
    "from datetime import datetime\n",
    "\n",
    "import igraph as igg\n",
    "new_k_min = 2\n",
    "new_k_max = 15\n",
    "new_pmin = new_k_min/float(nN);\n",
    "new_pmax = new_k_max/float(nN);\n",
    "precision = 10\n",
    "new_ps = np.linspace(new_pmin,new_pmax,precision);\n",
    "\n",
    "from scipy.stats import norm\n",
    "\n",
    "for l,p in tqdm(enumerate(new_ps)):\n",
    "    print(l, '/', precision, ':', len(new_ps), 'started:', str(datetime.now()))\n",
    "    new_gauss_pred[p] = []\n",
    "    new_res_ig[p] = []\n",
    "    new_av_k_ig[p] = [];\n",
    "    new_n_ig_dict[p] = []\n",
    "    dens[p] = []\n",
    "    new_gauss_pred_boost[p] = []\n",
    "    for it in range(num_iter):\n",
    "        g = igt.create_ER_bipartite_graph(nN,p) # create ER bipartite graph\n",
    "        lg = igt.line_graph(g) # create line graph\n",
    "        ig = igt.interference_graph(lg) # create interference graph\n",
    "        ig_degs = list(dict(ig.degree()).values())\n",
    "        new_av_k_ig[p].append(np.mean(ig_degs)); # computed z\n",
    "        new_n_ig = ig.number_of_nodes() # compute number of tasks M\n",
    "        new_n_ig_dict[p].append(new_n_ig); # compute number of tasks M\n",
    "        nx.write_gml(ig,'test_gt.gml'); #horrible trick\n",
    "        g_igraph = igg.load('test_gt.gml') \n",
    "        new_res_ig[p].append( g_igraph.alpha() )  # empirical/real MIS size\n",
    "        \n",
    "        # direct prediction\n",
    "        mu = new_av_k_ig[p][-1]\n",
    "        sigma = np.std(ig_degs)\n",
    "        p_stars_gauss = minimize_gauss_pstar(xs, mu, sigma, 2); #prediction based on gaussian IG degree distribution\n",
    "        new_gauss_pred[p].append(rho_gauss(p_stars_gauss, mu , sigma, 2)); #prediction based on gaussian IG degree distribution\n",
    "        dens[p].append(nx.density(ig));\n",
    "        \n",
    "        #indirect prediction on predicted degrees\n",
    "        g_degs = dict(nx.degree(g));\n",
    "        tt = [g.degree()[i] for i in range(nN)]\n",
    "        ss = [g.degree()[i] for i in range(nN,2*nN)]\n",
    "\n",
    "        boosted_degree_corrected = []\n",
    "        for edge in g.edges():\n",
    "            boosted_degree_corrected.append(igt.wedge_closure_boosted_degree_corrected(g_degs[edge[0]], g_degs[edge[1]], np.array(ss), np.array(tt)));\n",
    "        \n",
    "        mu = np.mean(boosted_degree_corrected)\n",
    "        sigma = np.std(boosted_degree_corrected)\n",
    "        p_stars_gauss = minimize_gauss_pstar(xs, mu, sigma, 2); #prediction based on gaussian IG degree distribution\n",
    "        new_gauss_pred_boost[p].append(rho_gauss(p_stars_gauss, mu , sigma, 2)); #prediction based on gaussian IG degree distribution"
   ]
  },
  {
   "cell_type": "code",
   "execution_count": 11,
   "metadata": {
    "ExecuteTime": {
     "end_time": "2020-11-23T11:21:03.616206Z",
     "start_time": "2020-11-23T11:21:03.605964Z"
    }
   },
   "outputs": [],
   "source": [
    "cmap = plt.cm.hot\n",
    "cmaplist = [cmap(i) for i in range(cmap.N)]\n",
    "cmap = cmap.from_list('Custom cmap', cmaplist, cmap.N)"
   ]
  },
  {
   "cell_type": "code",
   "execution_count": 12,
   "metadata": {
    "ExecuteTime": {
     "end_time": "2020-11-23T11:21:03.622386Z",
     "start_time": "2020-11-23T11:21:03.619183Z"
    }
   },
   "outputs": [],
   "source": [
    "av_dens = [np.mean(dens[x]) for x in new_ps]"
   ]
  },
  {
   "cell_type": "code",
   "execution_count": 13,
   "metadata": {
    "ExecuteTime": {
     "end_time": "2020-11-23T11:21:04.371033Z",
     "start_time": "2020-11-23T11:21:03.624058Z"
    }
   },
   "outputs": [
    {
     "name": "stderr",
     "output_type": "stream",
     "text": [
      "No handles with labels found to put in legend.\n"
     ]
    },
    {
     "data": {
      "text/plain": [
       "(0.0, 0.7)"
      ]
     },
     "execution_count": 13,
     "metadata": {},
     "output_type": "execute_result"
    },
    {
     "data": {
      "image/png": "[encoded data removed]",
      "text/plain": [
       "<Figure size 360x288 with 1 Axes>"
      ]
     },
     "metadata": {
      "needs_background": "light"
     },
     "output_type": "display_data"
    }
   ],
   "source": [
    "fs = 25\n",
    "fig = plt.figure(figsize=(5,4))\n",
    "ax = plt.subplot(111)\n",
    "\n",
    "data = new_gauss_pred\n",
    "yy = np.array(list(map(lambda x: np.mean(data[x]), sorted(data.keys()))));\n",
    "std_yy = np.array(list(map(lambda x: np.std(data[x]), sorted(data.keys()))));\n",
    "plt.fill_between(new_ps,yy+std_yy,yy-std_yy, alpha=0.3,color=cmap(150))\n",
    "\n",
    "data = new_gauss_pred_boost\n",
    "yy = np.array(list(map(lambda x: np.mean(data[x]), sorted(data.keys()))));\n",
    "std_yy = np.array(list(map(lambda x: np.std(data[x]), sorted(data.keys()))));\n",
    "plt.fill_between(new_ps,yy+std_yy,yy-std_yy, alpha=0.3,color=cmap(30))\n",
    "\n",
    "\n",
    "data = new_res_ig\n",
    "yy = list(map(lambda x: np.mean(np.array(data[x])/np.array(list(map(float,new_n_ig_dict[x])))), sorted(data.keys())));\n",
    "std_yy = list(map(lambda x: np.std(np.array(data[x])/np.array(list(map(float,new_n_ig_dict[x])))), sorted(data.keys())));\n",
    "plt.errorbar(new_ps,yy, std_yy, ms=0,alpha=0.4, color=cmap(av_dens),fmt='.',lw=2,mew=1.5)#,label = n_sigma)\n",
    "plt.scatter(new_ps, yy, c=cmap(av_dens), vmin=0, vmax=1)\n",
    "plt.ylabel(r'$\\rho_\\alpha$', fontsize=fs)\n",
    "plt.xlabel(r'$\\langle k \\rangle/N$', fontsize=fs)\n",
    "plt.box('off')\n",
    "plt.yticks(fontsize=15)\n",
    "plt.xticks(fontsize=15)\n",
    "plt.legend(loc=0)\n",
    "plt.tight_layout()\n",
    "plt.ylim(0,0.7)"
   ]
  },
  {
   "cell_type": "code",
   "execution_count": 14,
   "metadata": {
    "ExecuteTime": {
     "end_time": "2020-11-23T11:21:04.384715Z",
     "start_time": "2020-11-23T11:21:04.373615Z"
    }
   },
   "outputs": [],
   "source": [
    "pd.DataFrame(new_gauss_pred).to_csv('./figure_data/Fig_3c_gaussian_alpha_prediction_from_GT_data.csv')\n",
    "pd.DataFrame(new_res_ig).to_csv('./figure_data/Fig_3c_gaussian_alpha_simulation_from_GT_data.csv')"
   ]
  },
  {
   "cell_type": "code",
   "execution_count": 15,
   "metadata": {
    "ExecuteTime": {
     "end_time": "2020-11-23T11:21:04.391045Z",
     "start_time": "2020-11-23T11:21:04.386519Z"
    }
   },
   "outputs": [],
   "source": [
    "fig2c = {'simulations': new_res_ig, 'predictions': new_gauss_pred}\n",
    "import pickle as pk\n",
    "pk.dump(fig2c, open('./figure_data/figure2c.pck', 'wb'))"
   ]
  }
 ],
 "metadata": {
  "kernelspec": {
   "display_name": "pyenv3.8",
   "language": "python",
   "name": "pyenv3.8"
  },
  "language_info": {
   "codemirror_mode": {
    "name": "ipython",
    "version": 3
   },
   "file_extension": ".py",
   "mimetype": "text/x-python",
   "name": "python",
   "nbconvert_exporter": "python",
   "pygments_lexer": "ipython3",
   "version": "3.8.6"
  },
  "nav_menu": {},
  "toc": {
   "base_numbering": 1,
   "nav_menu": {},
   "number_sections": true,
   "sideBar": false,
   "skip_h1_title": false,
   "title_cell": "Table of Contents",
   "title_sidebar": "Contents",
   "toc_cell": false,
   "toc_position": {},
   "toc_section_display": "block",
   "toc_window_display": false
  }
 },
 "nbformat": 4,
 "nbformat_minor": 1
}
