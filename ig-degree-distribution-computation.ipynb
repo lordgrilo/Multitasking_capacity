{
 "cells": [
  {
   "cell_type": "code",
   "execution_count": null,
   "metadata": {
    "ExecuteTime": {
     "end_time": "2020-11-23T10:57:53.211709Z",
     "start_time": "2020-11-23T10:57:52.501719Z"
    }
   },
   "outputs": [],
   "source": [
    "import pandas as pd\n",
    "import IGtools as igt\n",
    "import networkx as nx\n",
    "import os, sys \n",
    "import matplotlib.pyplot as plt\n",
    "import pandas as pd\n",
    "from mis_utils import *"
   ]
  },
  {
   "cell_type": "code",
   "execution_count": null,
   "metadata": {
    "ExecuteTime": {
     "end_time": "2020-11-23T10:59:13.415944Z",
     "start_time": "2020-11-23T10:59:13.413750Z"
    }
   },
   "outputs": [],
   "source": [
    "import igraph as ig"
   ]
  },
  {
   "cell_type": "code",
   "execution_count": null,
   "metadata": {
    "ExecuteTime": {
     "end_time": "2020-11-23T10:59:13.557106Z",
     "start_time": "2020-11-23T10:59:13.554507Z"
    }
   },
   "outputs": [],
   "source": [
    "sizes = [20,40,50,60,70,80,90,100]"
   ]
  },
  {
   "cell_type": "code",
   "execution_count": null,
   "metadata": {
    "ExecuteTime": {
     "end_time": "2020-11-23T11:05:36.227667Z",
     "start_time": "2020-11-23T11:01:10.359351Z"
    }
   },
   "outputs": [],
   "source": [
    "zs = [3,5,8,15]\n",
    "\n",
    "g_test = {}\n",
    "deg_test = {}\n",
    "lg_test = {}\n",
    "deg_lg_test = {}\n",
    "ig_test = {}\n",
    "deg_ig_test = {}\n",
    "corresponding_degree = {}\n",
    "boosted_degree_corrected = {}\n",
    "\n",
    "fig = plt.figure(figsize=(12,8))\n",
    "for z in zs:\n",
    "    g_test[z] = {}\n",
    "    g_test[z] = {}\n",
    "    deg_test[z] = {}\n",
    "    lg_test[z] = {}\n",
    "    deg_lg_test[z] = {}\n",
    "    ig_test[z] = {}\n",
    "    deg_ig_test[z] = {}\n",
    "    boosted_degree_corrected[z] = {}\n",
    "    corresponding_degree[z] = {}\n",
    "    for j, size in enumerate(sizes):\n",
    "        g_test[z][j] = igt.create_ER_bipartite_graph(size,z/float(size-1))\n",
    "        g_test[z][j] = nx.Graph(g_test[z][j])\n",
    "        deg_test[z][j] = dict(nx.degree(g_test[z][j]));\n",
    "        lg_test[z][j] = igt.line_graph(g_test[z][j]);\n",
    "        deg_lg_test[z][j] = dict(nx.degree(lg_test[z][j]))\n",
    "        ig_test[z][j] = igt.interference_graph(lg_test[z][j]);\n",
    "        deg_ig_test[z][j] = dict(nx.degree(ig_test[z][j]))\n",
    "\n",
    "        tt = [g_test[z][j].degree()[i] for i in range(size)]\n",
    "        ss = [g_test[z][j].degree()[i] for i in range(size,2*size)]\n",
    "\n",
    "        boosted_degree_corrected[z][j] = []\n",
    "        corresponding_degree[z][j] = []\n",
    "        for edge in g_test[z][j].edges():\n",
    "            boosted_degree_corrected[z][j].append(igt.wedge_closure_boosted_degree_corrected(deg_test[z][j][edge[0]], deg_test[z][j][edge[1]], np.array(ss), np.array(tt)));\n",
    "\n",
    "            corresponding_degree[z][j].append(deg_ig_test[z][j][str(list(edge))])\n",
    "        plt.subplot(4,2,j+1)\n",
    "        plt.plot(corresponding_degree[z][j], boosted_degree_corrected[z][j],'o',label=z)\n",
    "        plt.title(str(size))\n",
    "        plt.plot(range(np.max(corresponding_degree[z][j])),range(np.max(corresponding_degree[z][j])),'k--')\n",
    "\n",
    "    plt.tight_layout()"
   ]
  },
  {
   "cell_type": "code",
   "execution_count": null,
   "metadata": {
    "ExecuteTime": {
     "end_time": "2020-11-23T11:08:27.324544Z",
     "start_time": "2020-11-23T11:08:26.974610Z"
    }
   },
   "outputs": [],
   "source": [
    "import seaborn as sns \n",
    "plt.style.use('seaborn-white')"
   ]
  },
  {
   "cell_type": "code",
   "execution_count": null,
   "metadata": {
    "ExecuteTime": {
     "end_time": "2020-11-23T11:09:21.815791Z",
     "start_time": "2020-11-23T11:09:21.807040Z"
    }
   },
   "outputs": [],
   "source": [
    "# define the colormap\n",
    "cmap = plt.cm.hot\n",
    "# extract all colors from the .jet map\n",
    "cmaplist = [cmap(i) for i in range(cmap.N)]\n",
    "# create the new map\n",
    "cmap = cmap.from_list('Custom cmap', cmaplist, cmap.N)"
   ]
  },
  {
   "cell_type": "code",
   "execution_count": null,
   "metadata": {
    "ExecuteTime": {
     "end_time": "2020-11-23T11:09:24.227315Z",
     "start_time": "2020-11-23T11:09:22.907735Z"
    }
   },
   "outputs": [],
   "source": [
    "fs = 30\n",
    "viz = [0,7]\n",
    "size_vis = [20,100]\n",
    "max_lim = [250,600]\n",
    "colors = ['b', 'r', 'y', 'g','b']\n",
    "plt.style.use('seaborn-white')\n",
    "fig = plt.figure(figsize=(10,8))\n",
    "for jj,j in enumerate(viz):\n",
    "    for zz,z in enumerate(zs):\n",
    "        plt.subplot(2,2,jj+1)\n",
    "        plt.scatter(np.array(corresponding_degree[z][j]), np.array(boosted_degree_corrected[z][j]),\n",
    "                 s=40,c=cmap(zz*256/len(zs)),label='z='+str(z),alpha=.8)\n",
    "\n",
    "        plt.title('BG layer size = '+str(size_vis[jj]))\n",
    "        plt.ylabel(r'$\\tilde{k}^{IG}$', fontsize=fs)        \n",
    "        plt.legend(loc=0, fontsize=20)\n",
    "        plt.xlim(0,max_lim[jj])\n",
    "        plt.xticks(fontsize=fs-5)\n",
    "        plt.yticks(fontsize=fs-5)        \n",
    "\n",
    "\n",
    "        plt.box('off')\n",
    "        plt.plot(np.array(range(np.max(corresponding_degree[z][j]))),\n",
    "                 np.array(range(np.max(corresponding_degree[z][j]))),'k--',alpha=0.6)\n",
    "        ax = plt.subplot(2,2,jj+3)\n",
    "        sns.distplot(corresponding_degree[z][j],ax=ax,kde=False,label = r'$k^{IG}$', norm_hist=True, color=cmap(zz*256/len(zs)))\n",
    "        sns.distplot(boosted_degree_corrected[z][j],hist=False,kde=True,ax=ax,color=cmap(zz*256/len(zs)))\n",
    "        plt.grid('off')\n",
    "        plt.box('off')\n",
    "        plt.xlabel(r'$k^{IG}$', fontsize=fs)\n",
    "        plt.ylabel(r'$p(k^{IG})$', fontsize=fs)\n",
    "        plt.xticks(fontsize=fs-5)\n",
    "        plt.yticks(fontsize=fs-5)        \n",
    "        plt.xlim(0,max_lim[jj])\n",
    "        plt.legend(loc=0, fontsize=20)\n",
    "plt.tight_layout()\n",
    "    "
   ]
  },
  {
   "cell_type": "code",
   "execution_count": null,
   "metadata": {},
   "outputs": [],
   "source": [
    "from scipy.stats import pearsonr\n",
    "pearsonr(np.array(corresponding_degree[z][j]), np.array(boosted_degree_corrected[z][j]))"
   ]
  },
  {
   "cell_type": "code",
   "execution_count": null,
   "metadata": {
    "ExecuteTime": {
     "end_time": "2020-11-23T11:13:45.454921Z",
     "start_time": "2020-11-23T11:13:45.403166Z"
    }
   },
   "outputs": [],
   "source": [
    "import pickle as pk\n",
    "fig2a = {'corresponding_degree': corresponding_degree, 'predicted_degree': boosted_degree_corrected}\n",
    "\n",
    "\n",
    "pk.dump(fig2a, open('./figure_data/figure2a.pck', 'wb'))"
   ]
  }
 ],
 "metadata": {
  "kernelspec": {
   "display_name": "pyenv3.8",
   "language": "python",
   "name": "pyenv3.8"
  },
  "language_info": {
   "codemirror_mode": {
    "name": "ipython",
    "version": 3
   },
   "file_extension": ".py",
   "mimetype": "text/x-python",
   "name": "python",
   "nbconvert_exporter": "python",
   "pygments_lexer": "ipython3",
   "version": "3.8.6"
  },
  "nav_menu": {},
  "toc": {
   "base_numbering": 1,
   "nav_menu": {},
   "number_sections": true,
   "sideBar": false,
   "skip_h1_title": false,
   "title_cell": "Table of Contents",
   "title_sidebar": "Contents",
   "toc_cell": false,
   "toc_position": {},
   "toc_section_display": "block",
   "toc_window_display": false
  }
 },
 "nbformat": 4,
 "nbformat_minor": 1
}
