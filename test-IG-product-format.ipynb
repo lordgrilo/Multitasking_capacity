{
 "cells": [
  {
   "cell_type": "code",
   "execution_count": 1,
   "metadata": {},
   "outputs": [
    {
     "name": "stdout",
     "output_type": "stream",
     "text": [
      "Populating the interactive namespace from numpy and matplotlib\n"
     ]
    }
   ],
   "source": [
    "%pylab inline\n",
    "import pandas as pd\n",
    "import IGtools as igt\n",
    "import networkx as nx\n",
    "import os, sys \n",
    "import matplotlib.pyplot as plt\n",
    "import pandas as pd"
   ]
  },
  {
   "cell_type": "code",
   "execution_count": 2,
   "metadata": {},
   "outputs": [
    {
     "data": {
      "text/plain": [
       "<module 'IGtools' from 'IGtools.pyc'>"
      ]
     },
     "execution_count": 2,
     "metadata": {},
     "output_type": "execute_result"
    }
   ],
   "source": [
    "import igraph as ig\n",
    "import imp\n",
    "imp.reload(igt)"
   ]
  },
  {
   "cell_type": "code",
   "execution_count": 6,
   "metadata": {},
   "outputs": [
    {
     "name": "stdout",
     "output_type": "stream",
     "text": [
      "5.69820404053e-05\n",
      "0.00315690040588\n",
      "0.0100269317627\n",
      "0.0544810295105\n",
      "7.27367210388\n",
      "7.27413511276\n",
      "7.27452301979\n",
      "7.27495503426\n"
     ]
    }
   ],
   "source": [
    "N = 50;\n",
    "\n",
    "import time\n",
    "from datetime import datetime\n",
    "\n",
    "now = time.time()\n",
    "p = 6\n",
    "print(time.time() - now)\n",
    "g = nx.powerlaw_cluster_graph(N,p,0.1);\n",
    "print(time.time() - now)\n",
    "g = igt.create_configuration_model_graph(nx.degree(g).values())\n",
    "print(time.time() - now)\n",
    "lg = igt.line_graph(g);\n",
    "print(time.time() - now)\n",
    "ig = igt.interference_graph(lg);\n",
    "print(time.time() - now)\n",
    "degg = g.degree().values()\n",
    "print(time.time() - now)\n",
    "degl = lg.degree().values()\n",
    "print(time.time() - now)\n",
    "degi = ig.degree().values()\n",
    "print(time.time() - now)\n",
    "\n",
    "\n"
   ]
  },
  {
   "cell_type": "code",
   "execution_count": null,
   "metadata": {},
   "outputs": [],
   "source": []
  }
 ],
 "metadata": {
  "kernelspec": {
   "display_name": "Python 2",
   "language": "python",
   "name": "python2"
  },
  "language_info": {
   "codemirror_mode": {
    "name": "ipython",
    "version": 2
   },
   "file_extension": ".py",
   "mimetype": "text/x-python",
   "name": "python",
   "nbconvert_exporter": "python",
   "pygments_lexer": "ipython2",
   "version": "2.7.15"
  }
 },
 "nbformat": 4,
 "nbformat_minor": 1
}
