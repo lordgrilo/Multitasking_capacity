{
 "cells": [
  {
   "cell_type": "code",
   "execution_count": 2,
   "metadata": {
    "collapsed": false
   },
   "outputs": [],
   "source": [
    "import os, sys\n",
    "import numpy as np\n",
    "notebook_mode = False;"
   ]
  },
  {
   "cell_type": "code",
   "execution_count": 3,
   "metadata": {
    "collapsed": false
   },
   "outputs": [
    {
     "ename": "SyntaxError",
     "evalue": "Missing parentheses in call to 'print' (<ipython-input-3-73dd212b0468>, line 3)",
     "output_type": "error",
     "traceback": [
      "\u001b[0;36m  File \u001b[0;32m\"<ipython-input-3-73dd212b0468>\"\u001b[0;36m, line \u001b[0;32m3\u001b[0m\n\u001b[0;31m    print 'input required: \\n number of graphs to produce \\n layer size \\n overlap \\n output directory'\u001b[0m\n\u001b[0m                                                                                                      ^\u001b[0m\n\u001b[0;31mSyntaxError\u001b[0m\u001b[0;31m:\u001b[0m Missing parentheses in call to 'print'\n"
     ]
    }
   ],
   "source": [
    "if notebook_mode==False:\n",
    "    if len(sys.argv)==1:\n",
    "        print 'input required: \\n number of graphs to produce \\n layer size \\n overlap \\n output directory'\n",
    "        exit()\n",
    "    number_of_graphs = int(sys.argv[1]);\n",
    "    graph_layer_size = int(sys.argv[2]);\n",
    "    overlap = float(sys.argv[3]);\n",
    "    output_directory = sys.argv[4]\n",
    "    \n",
    "else:\n",
    "    number_of_graphs = 10\n",
    "    graph_layer_size = 30\n",
    "    overlap = 3\n",
    "    output_directory = './test/'\n",
    "    \n",
    "if not os.path.exists(output_directory):\n",
    "    os.makedirs(output_directory);"
   ]
  },
  {
   "cell_type": "code",
   "execution_count": 7,
   "metadata": {
    "collapsed": true
   },
   "outputs": [],
   "source": [
    "import IGtools as igt\n",
    "import networkx as nx"
   ]
  },
  {
   "cell_type": "code",
   "execution_count": 13,
   "metadata": {
    "collapsed": false
   },
   "outputs": [],
   "source": [
    "subdirs = ['ER','regular','CM','CL'];\n",
    "for subdir in subdirs:\n",
    "    if not os.path.exists(output_directory+'/'+subdir):\n",
    "        os.makedirs(output_directory+'/'+subdir);"
   ]
  },
  {
   "cell_type": "markdown",
   "metadata": {},
   "source": [
    "For a general degree sequence, one case use the following function mm create the desired bipartite graph:"
   ]
  },
  {
   "cell_type": "code",
   "execution_count": 10,
   "metadata": {
    "collapsed": false
   },
   "outputs": [
    {
     "name": "stdout",
     "output_type": "stream",
     "text": [
      "60 90 3.0 0.103448275862\n",
      "60 102 3.4 0.103448275862\n",
      "60 98 3.26666666667 0.103448275862\n",
      "60 98 3.26666666667 0.103448275862\n",
      "60 104 3.46666666667 0.103448275862\n",
      "60 92 3.06666666667 0.103448275862\n",
      "60 94 3.13333333333 0.103448275862\n",
      "60 72 2.4 0.103448275862\n",
      "60 104 3.46666666667 0.103448275862\n",
      "60 108 3.6 0.103448275862\n"
     ]
    }
   ],
   "source": [
    "for i in range(number_of_graphs):\n",
    "    g = igt.create_ER_bipartite_graph(graph_layer_size,overlap/float(graph_layer_size-1));\n",
    "    print g.number_of_nodes(), g.number_of_edges(), np.mean(nx.degree(g).values()), overlap/float(graph_layer_size-1)\n",
    "    nx.write_edgelist(g,output_directory+'/ER/edgelist-'+str(i)+'.edges');"
   ]
  },
  {
   "cell_type": "code",
   "execution_count": 11,
   "metadata": {
    "collapsed": false
   },
   "outputs": [
    {
     "name": "stdout",
     "output_type": "stream",
     "text": [
      "60 90 3.0 0.103448275862\n",
      "60 90 3.0 0.103448275862\n",
      "60 90 3.0 0.103448275862\n",
      "60 90 3.0 0.103448275862\n",
      "60 90 3.0 0.103448275862\n",
      "60 90 3.0 0.103448275862\n",
      "60 90 3.0 0.103448275862\n",
      "60 90 3.0 0.103448275862\n",
      "60 90 3.0 0.103448275862\n",
      "60 90 3.0 0.103448275862\n"
     ]
    }
   ],
   "source": [
    "for i in range(number_of_graphs):\n",
    "    g = igt.create_configuration_model_graph(graph_layer_size*[overlap]);\n",
    "    print g.number_of_nodes(), g.number_of_edges(), np.mean(nx.degree(g).values())\n",
    "    nx.write_edgelist(g,output_directory+'/regular/edgelist-'+str(i)+'.edges');"
   ]
  },
  {
   "cell_type": "code",
   "execution_count": 12,
   "metadata": {
    "collapsed": false
   },
   "outputs": [
    {
     "name": "stdout",
     "output_type": "stream",
     "text": [
      "60 550 18.3333333333\n",
      "60 471 15.7\n",
      "60 468 15.6\n",
      "60 373 12.4333333333\n",
      "60 432 14.4\n",
      "60 399 13.3\n",
      "60 401 13.3666666667\n",
      "60 385 12.8333333333\n",
      "60 474 15.8\n",
      "60 433 14.4333333333\n"
     ]
    }
   ],
   "source": [
    "for i in range(number_of_graphs):\n",
    "    degseq = np.random.randint(1,graph_layer_size,graph_layer_size)\n",
    "    g = igt.create_configuration_model_graph(degseq);\n",
    "    print g.number_of_nodes(), g.number_of_edges(), np.mean(nx.degree(g).values())\n",
    "    nx.write_edgelist(g,output_directory+'/CM/edgelist-'+str(i)+'.edges');"
   ]
  },
  {
   "cell_type": "code",
   "execution_count": 14,
   "metadata": {
    "collapsed": false
   },
   "outputs": [
    {
     "name": "stdout",
     "output_type": "stream",
     "text": [
      "60 528 17.6\n",
      "60 452 15.0666666667\n",
      "60 324 10.8\n",
      "60 342 11.4\n",
      "60 422 14.0666666667\n",
      "60 392 13.0666666667\n",
      "60 388 12.9333333333\n",
      "60 460 15.3333333333\n",
      "60 328 10.9333333333\n",
      "60 406 13.5333333333\n"
     ]
    }
   ],
   "source": [
    "for i in range(number_of_graphs):\n",
    "    degseq = np.random.randint(1,graph_layer_size,graph_layer_size)\n",
    "    g = igt.create_expected_degree_graph(degseq);\n",
    "    print g.number_of_nodes(), g.number_of_edges(), np.mean(nx.degree(g).values())\n",
    "    nx.write_edgelist(g,output_directory+'/CL/edgelist-'+str(i)+'.edges');\n"
   ]
  }
 ],
 "metadata": {
  "anaconda-cloud": {},
  "kernelspec": {
   "display_name": "Python [Root]",
   "language": "python",
   "name": "Python [Root]"
  },
  "language_info": {
   "codemirror_mode": {
    "name": "ipython",
    "version": 3
   },
   "file_extension": ".py",
   "mimetype": "text/x-python",
   "name": "python",
   "nbconvert_exporter": "python",
   "pygments_lexer": "ipython3",
   "version": "3.5.2"
  }
 },
 "nbformat": 4,
 "nbformat_minor": 0
}
