{
 "cells": [
  {
   "cell_type": "code",
   "execution_count": 248,
   "metadata": {},
   "outputs": [],
   "source": [
    "%matplotlib inline\n",
    "import pandas as pd\n",
    "import IGtools as igt\n",
    "import networkx as nx\n",
    "import os, sys \n",
    "import matplotlib.pyplot as plt\n",
    "import pandas as pd\n",
    "import numpy as np\n",
    "from tqdm import tqdm_notebook"
   ]
  },
  {
   "cell_type": "code",
   "execution_count": 249,
   "metadata": {},
   "outputs": [],
   "source": [
    "import igraph as ig"
   ]
  },
  {
   "cell_type": "code",
   "execution_count": 250,
   "metadata": {},
   "outputs": [],
   "source": [
    "def plot_results(x,data,norm=None,label=None,marker='s'):\n",
    "    yy = map(lambda x: np.mean(data[x]), sorted(data.keys()));\n",
    "    std_yy = map(lambda x: np.std(data[x]), sorted(data.keys()));\n",
    "    plt.gca()\n",
    "    if norm==None:\n",
    "        plt.errorbar(x, np.array(yy), np.array(std_yy), fmt=marker,ms=10,alpha=0.6, label=label);\n",
    "    else:\n",
    "        plt.errorbar(x, np.array(yy)/float(norm), np.array(std_yy)/float(norm), fmt=marker,ms=10,alpha=0.6, label=label);\n",
    "    return;"
   ]
  },
  {
   "cell_type": "code",
   "execution_count": 251,
   "metadata": {
    "scrolled": false
   },
   "outputs": [],
   "source": [
    "from scipy.optimize import fsolve, fmin, root\n",
    "import sympy as sy\n",
    "from mis_utils import *"
   ]
  },
  {
   "cell_type": "markdown",
   "metadata": {},
   "source": [
    "# Simulation-driven comparison with IG "
   ]
  },
  {
   "cell_type": "code",
   "execution_count": 252,
   "metadata": {},
   "outputs": [],
   "source": [
    "num_iter = 10;\n",
    "nN = 20;\n",
    "xs = np.linspace(0.0001, 1, 2000); #lazy xs\n",
    "\n",
    "new_res_ig = {};\n",
    "new_av_k_ig = {}\n",
    "new_n_ig_dict = {}\n",
    "new_gauss_pred = {}"
   ]
  },
  {
   "cell_type": "code",
   "execution_count": 354,
   "metadata": {},
   "outputs": [],
   "source": [
    "def rho_generic(x,d,pk,c):\n",
    "    M = eval_genfunc(pk, np.log(x));\n",
    "    Mprime =  eval_genfunc_prime(pk, np.log(x));\n",
    "    mod = M - Mprime;\n",
    "    return (d/c)  * (1 - np.power(x,c/float(c-1))) + mod;\n",
    "\n",
    "# def rho_generic(x,d,pk,c):\n",
    "#     M = eval_genfunc(pk,x);\n",
    "#     Mprime = eval_genfunc_prime(pk,x);\n",
    "#     mod = M - Mprime;\n",
    "#     return (d/c)  * (1 - np.power(x,c/float(c-1))) + mod;\n",
    "\n",
    "def eval_genfunc(pk,x):\n",
    "    tot = np.sum(pk.values())\n",
    "    return np.sum([(pk[k]/float(tot)) * np.power(x, k) for k in pk]);\n",
    "\n",
    "def eval_genfunc_prime(pk,x):\n",
    "    tot = np.sum(pk.values())\n",
    "    return np.sum([k*(pk[k]/float(tot)) * np.power(x, k-1) for k in pk if k>0]);    \n",
    "\n",
    "\n",
    "# def attempt_scipy_func_generic(x, d, pk, c):\n",
    "#     return np.abs(x - np.power(1 - (eval_genfunc_prime(pk, np.log(x)) / float(d*x)), c-1));\n",
    "\n",
    "def attempt_scipy_func_generic(x, d, pk, c):\n",
    "    return np.abs(x - np.power(1 - (eval_genfunc_prime(pk, np.log(x)) / float(d*x)), c-1));\n",
    "\n",
    "\n",
    "def minimize_pstar_generic(xs, d, pk, c):\n",
    "    vals = map(lambda x: attempt_scipy_func_generic(x, d, pk, c), xs);\n",
    "    x0 = (np.min(vals), xs[np.nanargmin(vals)])\n",
    "    return x0[1]"
   ]
  },
  {
   "cell_type": "code",
   "execution_count": 360,
   "metadata": {},
   "outputs": [
    {
     "name": "stderr",
     "output_type": "stream",
     "text": [
      "/anaconda3/envs/py2/lib/python2.7/site-packages/ipykernel_launcher.py:24: OptimizeWarning: Unknown solver options: xtol\n"
     ]
    },
    {
     "data": {
      "text/plain": [
       "<matplotlib.legend.Legend at 0x1a322cb550>"
      ]
     },
     "execution_count": 360,
     "metadata": {},
     "output_type": "execute_result"
    },
    {
     "data": {
      "image/png": "[encoded data removed]",
      "text/plain": [
       "<Figure size 432x288 with 2 Axes>"
      ]
     },
     "metadata": {
      "needs_background": "light"
     },
     "output_type": "display_data"
    }
   ],
   "source": [
    "from scipy.optimize import minimize\n",
    "from scipy.stats import bernoulli, poisson\n",
    "\n",
    "ress = []\n",
    "rhos = []\n",
    "mis = []\n",
    "basis = np.linspace(1,10,10)\n",
    "for k in basis:\n",
    "    deh = poisson(k);\n",
    "    data = deh.rvs(2000)\n",
    "    try:\n",
    "        g = nx.configuration_model(data)\n",
    "    except:\n",
    "        data[0]-=1;\n",
    "        g = nx.configuration_model(data)\n",
    "    g.remove_edges_from(g.selfloop_edges())\n",
    "    data = g.degree().values()\n",
    "    pk = Counter(data)\n",
    "    z = np.mean(data)\n",
    "    def rosen(x):\n",
    "        return attempt_scipy_func_generic(x, z, pk, c);\n",
    "\n",
    "    x0 = .1\n",
    "    res = minimize(rosen, x0, method='BFGS', options={'xtol': 1e-8})#, 'disp': True});\n",
    "    ress.append(res.x);\n",
    "    \n",
    "    rhos.append(rho_generic(res.x,z,pk,c))\n",
    "    mis.append(len(nx.maximal_independent_set(g)));\n",
    "plt.subplot(121)\n",
    "plt.plot(basis, ress)\n",
    "plt.subplot(122)\n",
    "plt.plot(basis, rhos, 'o')\n",
    "plt.plot(basis, np.array(mis)/2000.0, label='real')\n",
    "plt.legend()"
   ]
  },
  {
   "cell_type": "code",
   "execution_count": 356,
   "metadata": {},
   "outputs": [
    {
     "name": "stderr",
     "output_type": "stream",
     "text": [
      "/anaconda3/envs/py2/lib/python2.7/site-packages/ipykernel_launcher.py:26: RuntimeWarning: divide by zero encountered in log\n"
     ]
    },
    {
     "data": {
      "text/plain": [
       "<matplotlib.legend.Legend at 0x1a313eca10>"
      ]
     },
     "execution_count": 356,
     "metadata": {},
     "output_type": "execute_result"
    },
    {
     "data": {
      "image/png": "[encoded data removed]",
      "text/plain": [
       "<Figure size 432x288 with 1 Axes>"
      ]
     },
     "metadata": {
      "needs_background": "light"
     },
     "output_type": "display_data"
    }
   ],
   "source": [
    "c = 2\n",
    "pss = np.linspace(1,10,5)\n",
    "kks = [k*pk[k] for k in pk];\n",
    "z = np.sum(kks)/np.sum(pk.values())\n",
    "xs = np.linspace(0,1,5000);\n",
    "plt.plot(pss, map(lambda x: minimize_pstar_generic(xs, x, pk,c), pss),'.', label = '4')\n",
    "# plt.plot(pss, map(lambda x: minimize_pstar_generic(xs, x, 3,c), pss),'.', label = '3')\n",
    "# plt.plot(pss, map(lambda x: minimize_pstar_generic(xs, x, 2,c), pss),'.', label = '2')\n",
    "# plt.plot(pss, map(lambda x: minimize_pstar_generic(xs, x, 1.5,c), pss),'.', label = '1.5')\n",
    "# plt.plot(pss, map(lambda x: minimize_pstar_generic(xs, x, 1,c), pss),'.', label = '1')\n",
    "plt.legend(loc=0)"
   ]
  },
  {
   "cell_type": "code",
   "execution_count": 231,
   "metadata": {},
   "outputs": [
    {
     "data": {
      "application/vnd.jupyter.widget-view+json": {
       "model_id": "a0abc53e930d409384f3ad6c8ce82007",
       "version_major": 2,
       "version_minor": 0
      },
      "text/plain": [
       "HBox(children=(IntProgress(value=1, bar_style=u'info', max=1), HTML(value=u'')))"
      ]
     },
     "metadata": {},
     "output_type": "display_data"
    },
    {
     "name": "stdout",
     "output_type": "stream",
     "text": [
      "0 / 3 : 2 started: 2019-10-08 18:35:54.820948\n"
     ]
    },
    {
     "name": "stderr",
     "output_type": "stream",
     "text": [
      "/anaconda3/envs/py2/lib/python2.7/site-packages/ipykernel_launcher.py:42: OptimizeWarning: Unknown solver options: xtol\n"
     ]
    },
    {
     "name": "stdout",
     "output_type": "stream",
     "text": [
      "1 / 3 : 4 started: 2019-10-08 18:36:01.936050\n",
      "2 / 3 : 6 started: 2019-10-08 18:36:40.129795\n"
     ]
    }
   ],
   "source": [
    "import time\n",
    "from datetime import datetime\n",
    "\n",
    "import igraph as igg\n",
    "new_k_min = 2\n",
    "new_k_max = 8\n",
    "new_pmin = new_k_min/float(nN);\n",
    "new_pmax = new_k_max/float(nN);\n",
    "# precision = 30\n",
    "# new_ps = np.linspace(new_pmin,new_pmax,precision);\n",
    "new_ps = range(new_k_min,new_k_max,2);\n",
    "\n",
    "from scipy.stats import norm\n",
    "from collections import Counter\n",
    "for l,p in tqdm_notebook(enumerate(new_ps)):\n",
    "    print l, '/', len(new_ps), ':', p, 'started:', str(datetime.now())\n",
    "    new_gauss_pred[p] = []\n",
    "    new_res_ig[p] = []\n",
    "    new_av_k_ig[p] = [];\n",
    "    new_n_ig_dict[p] = []\n",
    "    for it in range(num_iter):\n",
    "        g = nx.powerlaw_cluster_graph(nN,p,0.1);\n",
    "        GC = sorted(nx.connected_components(g), key = len, reverse=True)[0] \n",
    "        g = nx.subgraph(g,GC)\n",
    "        g = igt.create_configuration_model_graph(nx.degree(g).values())\n",
    "        lg = igt.line_graph(g) # create line graph\n",
    "        ig = igt.interference_graph(lg) # create interference graph\n",
    "        degs = ig.degree().values()\n",
    "        pk = Counter(degs);\n",
    "        new_av_k_ig[p].append(np.mean(degs)); # computed z\n",
    "        new_n_ig = ig.number_of_nodes() # compute number of tasks M\n",
    "        new_n_ig_dict[p].append(new_n_ig); # compute number of tasks M\n",
    "        nx.write_gml(ig,'test.gml'); #horrible trick\n",
    "        g_igraph = igg.load('test.gml') \n",
    "        new_res_ig[p].append( g_igraph.alpha() )  # empirical/real MIS size\n",
    "#         p_star = minimize_pstar_generic(xs, new_av_k_ig[p][-1], pk, 2)\n",
    "\n",
    "        def rosen(x):\n",
    "            return attempt_scipy_func_generic(x, new_av_k_ig[p][-1], pk, 2);\n",
    "\n",
    "        x0 = 0.1\n",
    "        res = minimize(rosen, x0, method='BFGS', options={'xtol': 1e-8})#, 'disp': True});\n",
    "        new_gauss_pred[p].append(rho_generic(res.x,new_av_k_ig[p][-1],pk,2))# rho_generic(p_star, new_av_k_ig[p][-1], pk, 2) )"
   ]
  },
  {
   "cell_type": "code",
   "execution_count": 232,
   "metadata": {},
   "outputs": [
    {
     "data": {
      "text/plain": [
       "array([0.05925926, 0.0530303 , 0.05072464, 0.05109489, 0.05035971,\n",
       "       0.05925926, 0.04929577, 0.04827586, 0.05      , 0.04964539])"
      ]
     },
     "execution_count": 232,
     "metadata": {},
     "output_type": "execute_result"
    }
   ],
   "source": [
    "np.array(new_res_ig[p]) / np.array(map(float,new_n_ig_dict[p]))"
   ]
  },
  {
   "cell_type": "code",
   "execution_count": 233,
   "metadata": {},
   "outputs": [],
   "source": [
    "cmap = plt.cm.hot\n",
    "cmaplist = [cmap(i) for i in range(cmap.N)]\n",
    "cmap = cmap.from_list('Custom cmap', cmaplist, cmap.N)"
   ]
  },
  {
   "cell_type": "code",
   "execution_count": 234,
   "metadata": {},
   "outputs": [
    {
     "data": {
      "image/png": "[encoded data removed]",
      "text/plain": [
       "<Figure size 576x576 with 1 Axes>"
      ]
     },
     "metadata": {
      "needs_background": "light"
     },
     "output_type": "display_data"
    }
   ],
   "source": [
    "fs = 30\n",
    "fig = plt.figure(figsize=(8,8))\n",
    "data = new_gauss_pred\n",
    "yy = np.array(map(lambda x: np.mean(data[x]), sorted(data.keys())));\n",
    "std_yy = np.array(map(lambda x: np.std(data[x]), sorted(data.keys())));\n",
    "plt.fill_between(new_ps,yy+std_yy,yy-std_yy, alpha=0.3,color=cmap(150), label='Pred. bounds')\n",
    "\n",
    "data = new_res_ig\n",
    "yy = map(lambda x: np.mean(data[x])/np.mean(new_n_ig_dict[x]), sorted(data.keys()));\n",
    "std_yy = map(lambda x: np.std(data[x])/nN, sorted(data.keys()));\n",
    "plt.errorbar(new_ps,yy,std_yy, ms=20,alpha=0.5,color=cmap(100),fmt='.',lw=2,mew=1.5,mec='k',label = r'Sim $\\rho_\\alpha$')\n",
    "plt.ylabel(r'$\\rho_\\alpha$', fontsize=fs)\n",
    "plt.xlabel(r'$\\langle k \\rangle/N$', fontsize=fs)\n",
    "plt.box('off')\n",
    "plt.xticks(fontsize=20)\n",
    "plt.yticks(fontsize=20)\n",
    "plt.legend(loc=0, fontsize=30)\n",
    "plt.tight_layout()"
   ]
  },
  {
   "cell_type": "code",
   "execution_count": 9,
   "metadata": {},
   "outputs": [
    {
     "data": {
      "image/png": "[encoded data removed]",
      "text/plain": [
       "<Figure size 360x288 with 1 Axes>"
      ]
     },
     "metadata": {
      "needs_background": "light"
     },
     "output_type": "display_data"
    }
   ],
   "source": [
    "fs = 15\n",
    "fig = plt.figure(figsize=(5,4))\n",
    "data = new_gauss_pred\n",
    "yy = np.array(map(lambda x: np.mean(data[x]), sorted(data.keys())));\n",
    "std_yy = np.array(map(lambda x: np.std(data[x]), sorted(data.keys())));\n",
    "plt.fill_between(new_ps,yy+std_yy,yy-std_yy, alpha=0.3,color=cmap(150))\n",
    "\n",
    "data = new_res_ig\n",
    "yy = map(lambda x: np.mean(data[x])/nN, sorted(data.keys()));\n",
    "std_yy = map(lambda x: np.std(data[x])/nN, sorted(data.keys()));\n",
    "plt.errorbar(new_ps,yy,std_yy, ms=15,alpha=0.4,color=cmap(100),fmt='.',lw=2,mew=1.5)#,label = n_sigma)\n",
    "plt.ylabel(r'$\\rho_\\alpha$', fontsize=fs)\n",
    "plt.xlabel(r'$z/N$', fontsize=fs)\n",
    "plt.box('off')\n",
    "plt.legend(loc=0)\n",
    "plt.tight_layout()"
   ]
  },
  {
   "cell_type": "code",
   "execution_count": 10,
   "metadata": {},
   "outputs": [
    {
     "data": {
      "application/vnd.jupyter.widget-view+json": {
       "model_id": "7b4559ee5992438395b2dc91e9c66fce",
       "version_major": 2,
       "version_minor": 0
      },
      "text/plain": [
       "HBox(children=(IntProgress(value=1, bar_style=u'info', max=1), HTML(value=u'')))"
      ]
     },
     "metadata": {},
     "output_type": "display_data"
    },
    {
     "name": "stdout",
     "output_type": "stream",
     "text": [
      "\n"
     ]
    }
   ],
   "source": [
    "# #density calculation \n",
    "# new_k_min = 1\n",
    "# new_k_max = 15\n",
    "# new_pmin = new_k_min/float(nN);\n",
    "# new_pmax = new_k_max/float(nN);\n",
    "# precision = 30\n",
    "# new_ps = np.linspace(new_pmin,new_pmax,precision);\n",
    "# ts_dens = {}\n",
    "# dens = {}\n",
    "# for l,p in tqdm_notebook(enumerate(new_ps)):\n",
    "#     dens[p] = []\n",
    "#     ts_dens[p] = []\n",
    "#     for it in range(num_iter):\n",
    "#         g = igt.create_ER_bipartite_graph(nN,p) # create ER bipartite graph\n",
    "#         ts_dens[p].append(nx.density(g));\n",
    "#         lg = igt.line_graph(g) # create line graph\n",
    "#         ig = igt.interference_graph(lg) # create interference graph\n",
    "#         dens[p].append(nx.density(ig));"
   ]
  },
  {
   "cell_type": "code",
   "execution_count": 11,
   "metadata": {},
   "outputs": [],
   "source": [
    "av_dens = [np.mean(dens[x]) for x in new_ps]\n",
    "# ts_av_dens = [np.mean(ts_dens[x]) for x in new_ps]"
   ]
  },
  {
   "cell_type": "code",
   "execution_count": 12,
   "metadata": {},
   "outputs": [
    {
     "ename": "ValueError",
     "evalue": "operands could not be broadcast together with shapes (30,) (3,) ",
     "output_type": "error",
     "traceback": [
      "\u001b[0;31m---------------------------------------------------------------------------\u001b[0m",
      "\u001b[0;31mValueError\u001b[0m                                Traceback (most recent call last)",
      "\u001b[0;32m<ipython-input-12-6be011ed9a8a>\u001b[0m in \u001b[0;36m<module>\u001b[0;34m()\u001b[0m\n\u001b[1;32m      5\u001b[0m \u001b[0myy\u001b[0m \u001b[0;34m=\u001b[0m \u001b[0mnp\u001b[0m\u001b[0;34m.\u001b[0m\u001b[0marray\u001b[0m\u001b[0;34m(\u001b[0m\u001b[0mmap\u001b[0m\u001b[0;34m(\u001b[0m\u001b[0;32mlambda\u001b[0m \u001b[0mx\u001b[0m\u001b[0;34m:\u001b[0m \u001b[0mnp\u001b[0m\u001b[0;34m.\u001b[0m\u001b[0mmean\u001b[0m\u001b[0;34m(\u001b[0m\u001b[0mdata\u001b[0m\u001b[0;34m[\u001b[0m\u001b[0mx\u001b[0m\u001b[0;34m]\u001b[0m\u001b[0;34m)\u001b[0m\u001b[0;34m,\u001b[0m \u001b[0msorted\u001b[0m\u001b[0;34m(\u001b[0m\u001b[0mdata\u001b[0m\u001b[0;34m.\u001b[0m\u001b[0mkeys\u001b[0m\u001b[0;34m(\u001b[0m\u001b[0;34m)\u001b[0m\u001b[0;34m)\u001b[0m\u001b[0;34m)\u001b[0m\u001b[0;34m)\u001b[0m\u001b[0;34m;\u001b[0m\u001b[0;34m\u001b[0m\u001b[0m\n\u001b[1;32m      6\u001b[0m \u001b[0mstd_yy\u001b[0m \u001b[0;34m=\u001b[0m \u001b[0mnp\u001b[0m\u001b[0;34m.\u001b[0m\u001b[0marray\u001b[0m\u001b[0;34m(\u001b[0m\u001b[0mmap\u001b[0m\u001b[0;34m(\u001b[0m\u001b[0;32mlambda\u001b[0m \u001b[0mx\u001b[0m\u001b[0;34m:\u001b[0m \u001b[0mnp\u001b[0m\u001b[0;34m.\u001b[0m\u001b[0mstd\u001b[0m\u001b[0;34m(\u001b[0m\u001b[0mdata\u001b[0m\u001b[0;34m[\u001b[0m\u001b[0mx\u001b[0m\u001b[0;34m]\u001b[0m\u001b[0;34m)\u001b[0m\u001b[0;34m,\u001b[0m \u001b[0msorted\u001b[0m\u001b[0;34m(\u001b[0m\u001b[0mdata\u001b[0m\u001b[0;34m.\u001b[0m\u001b[0mkeys\u001b[0m\u001b[0;34m(\u001b[0m\u001b[0;34m)\u001b[0m\u001b[0;34m)\u001b[0m\u001b[0;34m)\u001b[0m\u001b[0;34m)\u001b[0m\u001b[0;34m;\u001b[0m\u001b[0;34m\u001b[0m\u001b[0m\n\u001b[0;32m----> 7\u001b[0;31m \u001b[0mplt\u001b[0m\u001b[0;34m.\u001b[0m\u001b[0mfill_between\u001b[0m\u001b[0;34m(\u001b[0m\u001b[0mnew_ps\u001b[0m\u001b[0;34m,\u001b[0m\u001b[0myy\u001b[0m\u001b[0;34m+\u001b[0m\u001b[0mstd_yy\u001b[0m\u001b[0;34m,\u001b[0m\u001b[0myy\u001b[0m\u001b[0;34m-\u001b[0m\u001b[0mstd_yy\u001b[0m\u001b[0;34m,\u001b[0m \u001b[0malpha\u001b[0m\u001b[0;34m=\u001b[0m\u001b[0;36m0.3\u001b[0m\u001b[0;34m,\u001b[0m\u001b[0mcolor\u001b[0m\u001b[0;34m=\u001b[0m\u001b[0mcmap\u001b[0m\u001b[0;34m(\u001b[0m\u001b[0;36m150\u001b[0m\u001b[0;34m)\u001b[0m\u001b[0;34m)\u001b[0m\u001b[0;34m\u001b[0m\u001b[0m\n\u001b[0m\u001b[1;32m      8\u001b[0m \u001b[0;34m\u001b[0m\u001b[0m\n\u001b[1;32m      9\u001b[0m \u001b[0mdata\u001b[0m \u001b[0;34m=\u001b[0m \u001b[0mnew_res_ig\u001b[0m\u001b[0;34m\u001b[0m\u001b[0m\n",
      "\u001b[0;32m/anaconda3/envs/py2/lib/python2.7/site-packages/matplotlib/pyplot.pyc\u001b[0m in \u001b[0;36mfill_between\u001b[0;34m(x, y1, y2, where, interpolate, step, hold, data, **kwargs)\u001b[0m\n\u001b[1;32m   3057\u001b[0m         ret = ax.fill_between(x, y1, y2=y2, where=where,\n\u001b[1;32m   3058\u001b[0m                               \u001b[0minterpolate\u001b[0m\u001b[0;34m=\u001b[0m\u001b[0minterpolate\u001b[0m\u001b[0;34m,\u001b[0m \u001b[0mstep\u001b[0m\u001b[0;34m=\u001b[0m\u001b[0mstep\u001b[0m\u001b[0;34m,\u001b[0m \u001b[0mdata\u001b[0m\u001b[0;34m=\u001b[0m\u001b[0mdata\u001b[0m\u001b[0;34m,\u001b[0m\u001b[0;34m\u001b[0m\u001b[0m\n\u001b[0;32m-> 3059\u001b[0;31m                               **kwargs)\n\u001b[0m\u001b[1;32m   3060\u001b[0m     \u001b[0;32mfinally\u001b[0m\u001b[0;34m:\u001b[0m\u001b[0;34m\u001b[0m\u001b[0m\n\u001b[1;32m   3061\u001b[0m         \u001b[0max\u001b[0m\u001b[0;34m.\u001b[0m\u001b[0m_hold\u001b[0m \u001b[0;34m=\u001b[0m \u001b[0mwashold\u001b[0m\u001b[0;34m\u001b[0m\u001b[0m\n",
      "\u001b[0;32m/anaconda3/envs/py2/lib/python2.7/site-packages/matplotlib/__init__.pyc\u001b[0m in \u001b[0;36minner\u001b[0;34m(ax, *args, **kwargs)\u001b[0m\n\u001b[1;32m   1865\u001b[0m                         \u001b[0;34m\"the Matplotlib list!)\"\u001b[0m \u001b[0;34m%\u001b[0m \u001b[0;34m(\u001b[0m\u001b[0mlabel_namer\u001b[0m\u001b[0;34m,\u001b[0m \u001b[0mfunc\u001b[0m\u001b[0;34m.\u001b[0m\u001b[0m__name__\u001b[0m\u001b[0;34m)\u001b[0m\u001b[0;34m,\u001b[0m\u001b[0;34m\u001b[0m\u001b[0m\n\u001b[1;32m   1866\u001b[0m                         RuntimeWarning, stacklevel=2)\n\u001b[0;32m-> 1867\u001b[0;31m             \u001b[0;32mreturn\u001b[0m \u001b[0mfunc\u001b[0m\u001b[0;34m(\u001b[0m\u001b[0max\u001b[0m\u001b[0;34m,\u001b[0m \u001b[0;34m*\u001b[0m\u001b[0margs\u001b[0m\u001b[0;34m,\u001b[0m \u001b[0;34m**\u001b[0m\u001b[0mkwargs\u001b[0m\u001b[0;34m)\u001b[0m\u001b[0;34m\u001b[0m\u001b[0m\n\u001b[0m\u001b[1;32m   1868\u001b[0m \u001b[0;34m\u001b[0m\u001b[0m\n\u001b[1;32m   1869\u001b[0m         inner.__doc__ = _add_data_doc(inner.__doc__,\n",
      "\u001b[0;32m/anaconda3/envs/py2/lib/python2.7/site-packages/matplotlib/axes/_axes.pyc\u001b[0m in \u001b[0;36mfill_between\u001b[0;34m(self, x, y1, y2, where, interpolate, step, **kwargs)\u001b[0m\n\u001b[1;32m   5104\u001b[0m             \u001b[0mwhere\u001b[0m \u001b[0;34m=\u001b[0m \u001b[0mTrue\u001b[0m\u001b[0;34m\u001b[0m\u001b[0m\n\u001b[1;32m   5105\u001b[0m         where = where & ~functools.reduce(np.logical_or,\n\u001b[0;32m-> 5106\u001b[0;31m                                           map(np.ma.getmask, [x, y1, y2]))\n\u001b[0m\u001b[1;32m   5107\u001b[0m \u001b[0;34m\u001b[0m\u001b[0m\n\u001b[1;32m   5108\u001b[0m         \u001b[0mx\u001b[0m\u001b[0;34m,\u001b[0m \u001b[0my1\u001b[0m\u001b[0;34m,\u001b[0m \u001b[0my2\u001b[0m \u001b[0;34m=\u001b[0m \u001b[0mnp\u001b[0m\u001b[0;34m.\u001b[0m\u001b[0mbroadcast_arrays\u001b[0m\u001b[0;34m(\u001b[0m\u001b[0mnp\u001b[0m\u001b[0;34m.\u001b[0m\u001b[0matleast_1d\u001b[0m\u001b[0;34m(\u001b[0m\u001b[0mx\u001b[0m\u001b[0;34m)\u001b[0m\u001b[0;34m,\u001b[0m \u001b[0my1\u001b[0m\u001b[0;34m,\u001b[0m \u001b[0my2\u001b[0m\u001b[0;34m)\u001b[0m\u001b[0;34m\u001b[0m\u001b[0m\n",
      "\u001b[0;31mValueError\u001b[0m: operands could not be broadcast together with shapes (30,) (3,) "
     ]
    },
    {
     "data": {
      "image/png": "[encoded data removed]",
      "text/plain": [
       "<Figure size 360x288 with 1 Axes>"
      ]
     },
     "metadata": {
      "needs_background": "light"
     },
     "output_type": "display_data"
    }
   ],
   "source": [
    "fs = 15\n",
    "fig = plt.figure(figsize=(5,4))\n",
    "ax = plt.subplot(111)\n",
    "data = new_gauss_pred\n",
    "yy = np.array(map(lambda x: np.mean(data[x]), sorted(data.keys())));\n",
    "std_yy = np.array(map(lambda x: np.std(data[x]), sorted(data.keys())));\n",
    "plt.fill_between(new_ps,yy+std_yy,yy-std_yy, alpha=0.3,color=cmap(150))\n",
    "\n",
    "data = new_res_ig\n",
    "yy = map(lambda x: np.mean(data[x])/nN, sorted(data.keys()));\n",
    "std_yy = map(lambda x: np.std(data[x])/nN, sorted(data.keys()));\n",
    "plt.errorbar(new_ps,yy,std_yy, ms=0,alpha=0.4,color=cmap(av_dens),fmt='.',lw=2,mew=1.5)#,label = n_sigma)\n",
    "plt.scatter(new_ps, yy, c=cmap(av_dens))\n",
    "plt.ylabel(r'$\\rho_\\alpha$', fontsize=fs)\n",
    "plt.xlabel(r'$z/N$', fontsize=fs)\n",
    "plt.box('off')\n",
    "plt.legend(loc=0)\n",
    "plt.tight_layout()\n"
   ]
  },
  {
   "cell_type": "code",
   "execution_count": null,
   "metadata": {},
   "outputs": [],
   "source": [
    "plt.plot(ts_av_dens)"
   ]
  }
 ],
 "metadata": {
  "kernelspec": {
   "display_name": "Python 2",
   "language": "python",
   "name": "python2"
  },
  "language_info": {
   "codemirror_mode": {
    "name": "ipython",
    "version": 2
   },
   "file_extension": ".py",
   "mimetype": "text/x-python",
   "name": "python",
   "nbconvert_exporter": "python",
   "pygments_lexer": "ipython2",
   "version": "2.7.17"
  },
  "nav_menu": {},
  "toc": {
   "nav_menu": {},
   "number_sections": true,
   "sideBar": false,
   "skip_h1_title": false,
   "toc_cell": false,
   "toc_position": {},
   "toc_section_display": "block",
   "toc_window_display": false
  }
 },
 "nbformat": 4,
 "nbformat_minor": 1
}
